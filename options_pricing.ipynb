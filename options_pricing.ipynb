{
 "cells": [
  {
   "cell_type": "markdown",
   "metadata": {},
   "source": [
    "# Applying options pricing methods to the LOB simulation"
   ]
  },
  {
   "cell_type": "markdown",
   "metadata": {},
   "source": [
    "Using [Zhu (2010)](https://www.doi.org/10.1007/978-3-642-01808-4) as the main reference here."
   ]
  },
  {
   "cell_type": "markdown",
   "metadata": {},
   "source": [
    "Ultra-simple dynamic hedging portfolio construction example:\n",
    "\n",
    "- European call option at maturity date $T$ has payoff $C(T)={\\rm max}[S(T)-K,0]$ with strike price $K$.\n",
    "- Asset returns follow ${\\rm d}S(t) = \\mu S(t){\\rm d}t + \\sigma S(t){\\rm d}W(t)$.\n",
    "- Itô's lemma gives $${\\rm d}C(t)=\\bigg( \\frac{\\partial C}{\\partial t} + \\mu S \\frac{\\partial C}{\\partial S} + \\frac{1}{2}\\sigma^2S^2\\frac{\\partial^2 C}{\\partial S^2}\\bigg) {\\rm d}t + \\sigma S \\frac{\\partial C}{\\partial S}{\\rm d}W(t)$$\n",
    "- Construct the following portfolio to remove the risky noise term $$G(t) = \\frac{{\\rm d}C}{{\\rm d}S}S(t) - C(t)$$\n",
    "- Therefore $${\\rm d}G(t) = \\frac{{\\rm d}C}{{\\rm d}S}{\\rm d}S(t) - {\\rm d}C(t) = -\\bigg( \\frac{\\partial C}{\\partial t} + \\frac{1}{2}\\sigma^2S^2\\frac{\\partial^2 C}{\\partial S^2}\\bigg) {\\rm d}t$$\n",
    "- We want to engineer a risk-free return $r$ from this portfolio such that $${\\rm d}G(t) = rG(t){\\rm d}t = r\\bigg[\\frac{{\\rm d}C}{{\\rm d}S}S(t) - C(t)\\bigg] {\\rm d}t$$\n",
    "- Matching the two equations above, we arrive at the Black-Scholes PDE\n",
    "$$\\frac{\\partial C}{\\partial t} + rS\\frac{{\\rm d}C}{{\\rm d}S} + \\frac{1}{2}\\sigma^2S^2\\frac{\\partial^2 C}{\\partial S^2} -rC=0$$"
   ]
  },
  {
   "cell_type": "code",
   "execution_count": null,
   "metadata": {},
   "outputs": [],
   "source": []
  }
 ],
 "metadata": {
  "kernelspec": {
   "display_name": "base",
   "language": "python",
   "name": "base"
  },
  "language_info": {
   "codemirror_mode": {
    "name": "ipython",
    "version": 3
   },
   "file_extension": ".py",
   "mimetype": "text/x-python",
   "name": "python",
   "nbconvert_exporter": "python",
   "pygments_lexer": "ipython3",
   "version": "3.8.5"
  }
 },
 "nbformat": 4,
 "nbformat_minor": 4
}
