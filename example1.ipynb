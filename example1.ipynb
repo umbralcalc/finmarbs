{
 "cells": [
  {
   "cell_type": "markdown",
   "metadata": {},
   "source": [
    "# example1\n",
    "\n",
    "The simulation of financial markets through the use of agent-based models is an increasingly popular technique to understand the microstructure of their dynamics from the bottom up. In this notebook, we'll look at an example market simulation."
   ]
  },
  {
   "cell_type": "code",
   "execution_count": 2,
   "metadata": {},
   "outputs": [],
   "source": [
    "# Usual imports\n",
    "import numpy as np\n",
    "import pandas as pd\n",
    "import matplotlib.pyplot as plt\n",
    "import seaborn as sns\n",
    "sns.set()"
   ]
  },
  {
   "cell_type": "markdown",
   "metadata": {},
   "source": [
    "Looking at this paper: https://www.nature.com/articles/srep08399.pdf ..."
   ]
  },
  {
   "cell_type": "code",
   "execution_count": 14,
   "metadata": {},
   "outputs": [],
   "source": [
    "class agentens:\n",
    "    def __init__(self, setup : dict):\n",
    "        \"\"\"A class for an ensemble of agents which\n",
    "        can be evolved in time.\"\"\"\n",
    "        self.setup = setup\n",
    "        self._stocks_held = None\n",
    "        self._invest_horizons = None\n",
    "        self._max_horizon = None\n",
    "        self._Nhist = None\n",
    "        self._price_diff_history = None\n",
    "        self.ln_returns = np.zeros(\n",
    "            (self.setup[\"Nagents\"], self.setup[\"Nreals\"])\n",
    "        )\n",
    "    @property\n",
    "    def stocks_held(self):\n",
    "        if self._stocks_held is None:\n",
    "            self._stocks_held = np.random.randint(\n",
    "                0,\n",
    "                self.setup[\"Nstocks\"] + 1,\n",
    "                size=(\n",
    "                    self.setup[\"Nagents\"],\n",
    "                    self.setup[\"Nreals\"],\n",
    "                ),\n",
    "            )\n",
    "        return self._stocks_held\n",
    "    @property\n",
    "    def invest_horizons(self):\n",
    "        if self._invest_horizons is None:\n",
    "            self._invest_horizons = np.random.exponential(\n",
    "                np.tensordot(\n",
    "                    1.0 \n",
    "                    / np.random.gamma(\n",
    "                        self.setup[\"GammaShape\"],\n",
    "                        self.setup[\"GammaScale\"],\n",
    "                        size=self.setup[\"Nagents\"],\n",
    "                    ),\n",
    "                    np.ones(self.setup[\"Nreals\"]),\n",
    "                    axes=0,\n",
    "                ),\n",
    "                size=(\n",
    "                    self.setup[\"Nagents\"],\n",
    "                    self.setup[\"Nreals\"],\n",
    "                )\n",
    "            )\n",
    "        return self._invest_horizons\n",
    "    @property\n",
    "    def max_horizon(self):\n",
    "        if self._max_horizon is None:\n",
    "            self._max_horizon = self.invest_horizons.max()\n",
    "        return self._max_horizon\n",
    "    @property\n",
    "    def Nhist(self):\n",
    "        if self._Nhist is None:\n",
    "            self._Nhist = int(self.max_horizon / self.setup[\"tstep\"])\n",
    "        return self._Nhist\n",
    "    @property\n",
    "    def price_diff_history(self):\n",
    "        if self._price_diff_history is None:\n",
    "            self._price_diff_history = np.zeros(\n",
    "                (self.Nhist, self.setup[\"Nstocks\"], self.setup[\"Nreals\"])\n",
    "            )\n",
    "        return self._price_diff_history    \n",
    "    def iterate(self, prices : np.ndarray):\n",
    "        \"\"\"Take the ensemble a step forward in time by\n",
    "        asking each agent to make a buy-sell-hold decision.\"\"\"\n",
    "        draws = np.random.uniform(size=(self.setup[\"Nagents\"], self.setup[\"Nreals\"]))\n",
    "        self.decisions = (\n",
    "            0\n",
    "            + 1 * (self.buyprobs > draws)\n",
    "            - 1 * (self.sellprobs + self.buyprobs > draws >= self.buyprobs)\n",
    "        )\n",
    "        self.ln_returns = np.cumsum(np.log(self.price_diff_history), axis=0)"
   ]
  },
  {
   "cell_type": "code",
   "execution_count": 16,
   "metadata": {},
   "outputs": [],
   "source": [
    "class marketens:\n",
    "    def __init__(self, setup : dict):\n",
    "        \"\"\"A class for an ensemble of simulated market \n",
    "        prices which can be evolved in time.\"\"\"\n",
    "        self.setup = setup\n",
    "        self.prices = 10.0 * np.random.uniform(\n",
    "            size=(self.setup[\"Nstocks\"], self.setup[\"Nreals\"])\n",
    "        )\n",
    "        self._ae = None\n",
    "    @property\n",
    "    def ae(self):\n",
    "        if self._ae is None:\n",
    "            self._ae = agentens(self.setup)\n",
    "        return self._ae\n",
    "    def iterate(self, prices : np.ndarray) -> np.ndarray:\n",
    "        \"\"\"Take the market prices (and the ensemble) \n",
    "        a step forward in time.\"\"\"\n",
    "        new_prices = ###\n",
    "        return new_prices"
   ]
  },
  {
   "cell_type": "code",
   "execution_count": 25,
   "metadata": {},
   "outputs": [],
   "source": [
    "k = 100.0\n",
    "setup = {\n",
    "    \"Nstocks\" : 100,\n",
    "    \"Nagents\" : 1000,\n",
    "    \"Nreals\" : 10,\n",
    "    \"GammaShape\" : k,\n",
    "    \"GammaScale\" : 1.0 / k,\n",
    "    \"tstep\" : 0.1,\n",
    "}\n",
    "me = marketens(setup)"
   ]
  },
  {
   "cell_type": "code",
   "execution_count": 26,
   "metadata": {},
   "outputs": [
    {
     "data": {
      "text/plain": [
       "10.725685626262921"
      ]
     },
     "execution_count": 26,
     "metadata": {},
     "output_type": "execute_result"
    }
   ],
   "source": [
    "me.ae.max_horizon"
   ]
  },
  {
   "cell_type": "code",
   "execution_count": null,
   "metadata": {},
   "outputs": [],
   "source": []
  }
 ],
 "metadata": {
  "kernelspec": {
   "display_name": "base",
   "language": "python",
   "name": "base"
  },
  "language_info": {
   "codemirror_mode": {
    "name": "ipython",
    "version": 3
   },
   "file_extension": ".py",
   "mimetype": "text/x-python",
   "name": "python",
   "nbconvert_exporter": "python",
   "pygments_lexer": "ipython3",
   "version": "3.8.5"
  }
 },
 "nbformat": 4,
 "nbformat_minor": 4
}
