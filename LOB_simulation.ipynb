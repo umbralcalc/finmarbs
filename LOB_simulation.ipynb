{
 "cells": [
  {
   "cell_type": "markdown",
   "metadata": {},
   "source": [
    "# Limit order book (LOB) simulation\n",
    "\n",
    "Using [Bouchaud et al. (2018)](https://doi.org/10.1017/9781316659335) as the main reference here.\n",
    "\n",
    "Also look at [Blanc, Donier & Bouchaud (2015)](https://doi.org/10.1080/14697688.2016.1193215) for the right Hawkes process ideas.\n",
    "\n",
    "The simulation of financial markets through the use of agent-based models is an increasingly popular technique to understand the microstructure of their dynamics from the bottom up. In this notebook, we'll look at an example market simulation."
   ]
  },
  {
   "cell_type": "code",
   "execution_count": 1,
   "metadata": {},
   "outputs": [],
   "source": [
    "# Standard imports\n",
    "import numpy as np\n",
    "import pandas as pd\n",
    "import matplotlib.pyplot as plt\n",
    "import seaborn as sns\n",
    "sns.set()\n",
    "\n",
    "# Get the class structures\n",
    "import sys\n",
    "sys.path.append(\"/Users/Rob/work/finmarbs/utils/\")\n",
    "from lobsim import LOBsim\n",
    "from sfagent import SFagentens"
   ]
  },
  {
   "cell_type": "markdown",
   "metadata": {},
   "source": [
    "Begin with a **heterogeneous individual-agent** version of the original **Santa Fe model** using a synchronous ensemble rejection algorithm. The key point here is to make sure the overall holding rate is large enough which should limit the number of anachronisms in the order flow..."
   ]
  },
  {
   "cell_type": "code",
   "execution_count": 10,
   "metadata": {},
   "outputs": [],
   "source": [
    "setup = {\n",
    "    # Number of agents\n",
    "    \"Nagents\" : 100,\n",
    "    # 1/variance in agent relative trading rates\n",
    "    \"heterok\" : 0.1,\n",
    "    # Mean global agent speculation rate\n",
    "    \"meanspecrate\" : 1.0,\n",
    "    # Mean limit order rate per agent on the bid side\n",
    "    \"meanLOratebid\" : 3.0,\n",
    "    # Mean limit order rate per agent on the ask side\n",
    "    \"meanLOrateask\" : 3.0,\n",
    "    # Mean market order rate per agent on the bid side\n",
    "    \"meanMOratebid\" : 1.0,\n",
    "    # Mean market order rate per agent on the ask side\n",
    "    \"meanMOrateask\" : 1.0,\n",
    "    # Mean cancel order rate per agent on the bid side\n",
    "    \"meanCOratebid\" : 0.1,\n",
    "    # Mean cancel order rate per agent on the ask side\n",
    "    \"meanCOrateask\" : 0.1,\n",
    "    # The overall mean holding rate\n",
    "    \"meanHOrate\" : 100.0,\n",
    "    # Limit order decay power in price units\n",
    "    \"LOdecay\" : 0.1,\n",
    "    # Initial bid tick\n",
    "    \"initbidpricetick\" : 100,\n",
    "    # Initial ask tick\n",
    "    \"initaskpricetick\" : 101,\n",
    "    # The price tick size\n",
    "    \"tickscale\" : 1.0,\n",
    "    # The number of price points simulated\n",
    "    \"Nlattice\" : 200,\n",
    "    # Hawkes kernel power for endogeneous excitations\n",
    "    \"Hawkespow\" : 1.0,\n",
    "    # Trader behaviour ratio between endogeneous vs exogeneous\n",
    "    \"rbehaviours\" : 1.0 #- (0.05 * np.random.uniform(size=100)),\n",
    "}\n",
    "\n",
    "# Initialise the LOB simulation\n",
    "los = LOBsim(setup, agentens=SFagentens)\n",
    "\n",
    "# Iterate the LOB over time\n",
    "tend, t = 100.0, 0.0\n",
    "midps = []\n",
    "while t < tend:\n",
    "    los.iterate()\n",
    "    t = los.time\n",
    "    midps.append([t, los.market_state_info[\"midprice\"]])"
   ]
  },
  {
   "cell_type": "code",
   "execution_count": 11,
   "metadata": {},
   "outputs": [
    {
     "data": {
      "image/png": "[encoded data removed]",
      "text/plain": [
       "<Figure size 1080x360 with 2 Axes>"
      ]
     },
     "metadata": {},
     "output_type": "display_data"
    }
   ],
   "source": [
    "fig, ax = plt.subplots(1, 2, figsize=(15, 5))\n",
    "ax[0].bar(los.prices, los.asks)\n",
    "ax[0].bar(los.prices, -los.bids)\n",
    "ax[1].plot(np.asarray(midps)[:, 0], np.asarray(midps)[:, 1])\n",
    "ax[0].set_ylabel('Volume')\n",
    "ax[0].set_xlabel('Price')\n",
    "ax[1].set_ylabel('Mid price')\n",
    "ax[1].set_xlabel('Time')\n",
    "plt.show()"
   ]
  },
  {
   "cell_type": "markdown",
   "metadata": {},
   "source": [
    "The master equation for the process above at price $p$ is\n",
    "\n",
    "$$\n",
    "\\begin{align}\n",
    "\\frac{{\\rm d}}{{\\rm d}t}P(\\dots, V^p_{ib}, \\dots, V^p_{ia}, \\dots, t) &= \\frac{1}{2}\\sum_{\\forall i}\\gamma_i\\lambda^p_b(t) P(\\dots, V^p_{ib}-1, \\dots, V^p_{ia}, \\dots, t) \\\\\n",
    "&+ \\frac{1}{2}\\sum_{\\forall i}\\gamma_i\\lambda^p_a(t) P(\\dots, V^p_{ib}, \\dots, V^p_{ia}-1, \\dots, t) \\\\\n",
    "&+ \\frac{1}{2}\\sum_{\\forall i}\\frac{(V^p_{ib}+1)\\sum_{\\forall i'}\\gamma_{i'}\\mu^p_b(t)}{1+\\sum_{\\forall i'}V^p_{i'b}} P(\\dots, V^p_{ib}+1, \\dots, V^p_{ia}, \\dots, t) \\\\\n",
    "&+ \\frac{1}{2}\\sum_{\\forall i}\\frac{(V^p_{ia}+1)\\sum_{\\forall i'}\\gamma_{i'}\\mu^p_a(t)}{1+\\sum_{\\forall i'}V^p_{i'a}} P(\\dots, V^p_{ib}, \\dots, V^p_{ia}+1, \\dots, t) \\\\\n",
    "&+ \\frac{1}{2}\\sum_{\\forall i}(V^p_{ib}+1)\\gamma_i\\nu_b(t) P(\\dots, V^p_{ib}+1, \\dots, V^p_{ia}, \\dots, t) \\\\\n",
    "&+ \\frac{1}{2}\\sum_{\\forall i}(V^p_{ia}+1)\\gamma_i\\nu_a(t) P(\\dots, V^p_{ib}, \\dots, V^p_{ia}+1, \\dots, t) \\\\\n",
    "&- \\frac{1}{2}\\sum_{\\forall i}\n",
    "\\bigg\\{ \\gamma_i\\lambda^p_b(t) + \\gamma_i\\lambda^p_a(t) + \\gamma_i\\mu^p_b(t) + \\gamma_i\\mu^p_a(t) + V^p_{ib}\\gamma_i\\nu_b(t) + V^p_{ia}\\gamma_i\\nu_a(t) \\bigg\\} P(\\dots, V^p_{ib}, \\dots, V^p_{ia}, \\dots, t)\\,,\n",
    "\\end{align}\n",
    "$$\n",
    "\n",
    "where $m(t)=[b(t)+a(t)]/2$ is the mid price and the other functions are\n",
    "\n",
    "$$\n",
    "\\begin{equation}\n",
    "\\lambda^p_b(t) = \\lambda_b(t) \\mathbb{1}_{b(t)\\geq p} e^{-\\alpha [m(t)-p]}\\,, \\quad \\lambda^p_a(t) = \\lambda_a(t) \\mathbb{1}_{p\\geq a(t)} e^{-\\alpha [p-m(t)]}\\,, \\quad \\mu^p_b(t) = \\mu_b(t) \\mathbb{1}_{a(t)= p}\\,, \\quad \\mu^p_a(t) = \\mu_a(t) \\mathbb{1}_{b(t)= p} \\,,\n",
    "\\end{equation}\n",
    "$$\n",
    "\n",
    "where: $\\lambda_b(t)\\,, \\lambda_a(t)$ are the average limit order rates per agent; $\\alpha$ is the limit order decay power; $\\mu_b(t)\\,, \\mu_a(t)$ are the average market order rates per agent; $\\nu_b(t)\\,, \\nu_a(t)$ are the average order-cancellation rates per agent; and $\\gamma_i$ is the $i$-th agents' preferred relative trading rate, which we draw from a unit-mean and $1/k$-variance gamma distribution, i.e., ${\\rm PDF}(\\gamma_i)={\\rm Gamma}(\\gamma_i;k,k)$. Note that we denote $\\mathbb{1}_A$ as an indicator function which takes value unity when $A$ is true, else 0.\n",
    "\n",
    "Let us now approximate the terms $1+\\sum_{\\forall i'}V^p_{i'a}$ and $1+\\sum_{\\forall i'}V^p_{i'b}$ in the denominator of the market order rate coefficients for the $i$-th agent to be the time-dependent stochastic processes $F^p_{a}(t)$ and $F^p_{b}(t)$ which are uncorrelated to the $i$-th agent's actions. By then marginalising over the full master equation bid and ask volumes $\\forall i'\\neq i$, we can hence obtain an approximate equation for each individual agent\n",
    "\n",
    "$$\n",
    "\\begin{align}\n",
    "\\frac{{\\rm d}}{{\\rm d}t}P(V^p_{ib}, V^p_{ia}, t) &\\simeq \\frac{1}{2}\\gamma_i\\lambda^p_b(t) P(V^p_{ib}-1, V^p_{ia}, t) + \\frac{1}{2}\\gamma_i\\lambda^p_a(t) P(V^p_{ib}, V^p_{ia}-1, t) \\\\\n",
    "&+ \\sum_{\\forall i'}\\gamma_{i'}\\mu^p_b(t) \\frac{(V^p_{ib}+1)}{2F^p_{b}(t)}P(V^p_{ib}+1, V^p_{ia}, t) + \\sum_{\\forall i'}\\gamma_{i'}\\mu^p_a(t) \\frac{(V^p_{ia}+1)}{2F^p_{a}(t)}P(V^p_{ib}, V^p_{ia}+1, t) \\\\\n",
    "&+ \\frac{1}{2}(V^p_{ib}+1)\\gamma_i\\nu_b(t) P(V^p_{ib}+1, V^p_{ia}, t) + \\frac{1}{2}(V^p_{ia}+1)\\gamma_i\\nu_a(t) P(V^p_{ib}, V^p_{ia}+1, t) \\\\\n",
    "&- \\frac{1}{2}\n",
    "\\bigg\\{ \\gamma_i\\lambda^p_b(t) + \\gamma_i\\lambda^p_a(t) + \\sum_{\\forall i'}\\gamma_{i'}\\mu^p_b(t) \\frac{V^p_{ib}}{2F^p_{b}(t)} + \\sum_{\\forall i'}\\gamma_{i'}\\mu^p_a(t) \\frac{V^p_{ia}}{2F^p_{a}(t)} + V^p_{ib}\\gamma_i\\nu_b(t) + V^p_{ia}\\gamma_i\\nu_a(t) \\bigg\\} P(V^p_{ib}, V^p_{ia}, t)\\,.\n",
    "\\end{align}\n",
    "$$\n",
    "\n",
    "Taking the first moments of this equation with respect to $V^p_{ia}$ and $V^p_{ib}$ in turn, we then obtain the probability mass function solution of two independent time-inhomogeneous Poisson processes\n",
    "\n",
    "$$\n",
    "\\begin{align}\n",
    "P(V^p_{ib}, V^p_{ia}, t) &\\simeq {\\rm Poisson}\\big[ V^p_{ib};{\\rm E}_{t}(V^p_{ib})\\big] {\\rm Poisson}\\big[ V^p_{ia};{\\rm E}_{t}(V^p_{ia})\\big] \\\\\n",
    "{\\rm E}_{t}(V^p_{ib}) &\\simeq {\\rm E}_{t_0}(V^p_{ib})\\exp \\bigg\\{ - \\int_{t_0}^t \\frac{\\sum_{\\forall i'}\\gamma_{i'}\\mu^p_b(t')}{2F^p_{b}(t')}{\\rm d}t' - \\frac{1}{2}\\int_{t_0}^t\\gamma_i\\nu_b(t'){\\rm d}t'\\bigg\\} \\\\\n",
    "&+  \\frac{1}{2}\\int_{t_0}^t {\\rm d}t' \\gamma_i\\lambda^p_b(t') \\exp \\bigg\\{ - \\int_{t'}^t \\frac{\\sum_{\\forall i'}\\gamma_{i'}\\mu^p_b(t'')}{2F^p_{b}(t'')}{\\rm d}t'' - \\frac{1}{2}\\int_{t'}^t\\gamma_i\\nu_b(t''){\\rm d}t''\\bigg\\} \\\\\n",
    "{\\rm E}_{t}(V^p_{ia}) &\\simeq {\\rm E}_{t_0}(V^p_{ia})\\exp \\bigg\\{ - \\int_{t_0}^t \\frac{\\sum_{\\forall i'}\\gamma_{i'}\\mu^p_a(t')}{2F^p_{a}(t')}{\\rm d}t' - \\frac{1}{2}\\int_{t_0}^t\\gamma_i\\nu_a(t'){\\rm d}t'\\bigg\\} \\\\\n",
    "&+  \\frac{1}{2}\\int_{t_0}^t {\\rm d}t' \\gamma_i\\lambda^p_a(t') \\exp \\bigg\\{ - \\int_{t'}^t \\frac{\\sum_{\\forall i'}\\gamma_{i'}\\mu^p_a(t'')}{2F^p_{a}(t'')}{\\rm d}t'' - \\frac{1}{2}\\int_{t'}^t\\gamma_i\\nu_a(t''){\\rm d}t''\\bigg\\} \\,.\n",
    "\\end{align}\n",
    "$$\n",
    "\n",
    "Note that by summing over $i$, we obtain an approximate description of the volume queue at each price $p$. Furthermore, we may infer that the probabilities for a price having non-zero bid or ask volume, respectively, at time $t$ are given by\n",
    "\n",
    "$$\n",
    "\\begin{equation}\n",
    "P(V^p_{b}>0, t) = 1-e^{-\\sum_{\\forall i}{\\rm E}_{t}(V^p_{ib})}\\,, \\qquad P(V^p_{a}>0, t) = 1-e^{-\\sum_{\\forall i}{\\rm E}_{t}(V^p_{ia})}\\,.\n",
    "\\end{equation}\n",
    "$$\n",
    "\n",
    "Note also that as the distribution approaches stationarity, the distributions over the sum of agent volumes $\\sum_{\\forall i}V^p_{ib}$ and $\\sum_{\\forall i}V^p_{ia}$ for a given price are also approximately Poisson (since there is an overall cancellation of the gamma-distributed factor in the second integrals within the expressions above)."
   ]
  },
  {
   "cell_type": "markdown",
   "metadata": {},
   "source": [
    "Model improvements/extensions to consider:\n",
    "1. Mutually self-exciting processes to deal with endogeneous effects, like event clustering. This can be done via the market orders depending on the recent change in volume via a Hawkes process kernel $\\Phi$, i.e., something like $\\gamma_i\\mu_b(t){\\rm d}t \\rightarrow r_i\\gamma_i\\mu_b(t){\\rm d}t + (1-r_i)\\Phi (t-t')\\sum_{\\forall i}{\\rm d}V^{a}_{ib}(t')/N_{\\rm agents}$, where $r_i$ is a ratio which governs how much an the $i$-th trader's behaviour is exogeneously determined through fundamental price changes versus being more endogeneously determined through self-excitations. Note that we can approximate $\\sum_{\\forall i}{\\rm d}V^p_{ib}(t) \\simeq {\\rm d}F^p_{b}(t) \\simeq \\big\\{ {\\rm E}[F^p_{b}(t)] - F^p_{b}(t)\\big\\} q{\\rm d}t + {\\rm Var}[F^p_{b}(t)]^{1/2}q^{1/2}{\\rm d}W(t)$ where $q$ is some mean-reversion rate to think about.\n",
    "2. Available-volume-dependent market order rates, e.g., $\\mu_b(t)\\rightarrow \\mu_b\\big( t, \\sum_{\\forall i}V^p_{ib}\\big)$.\n",
    "3. Order flows that are **not** independent from one-another. E.g., include the long-range autocorrelation of market order signs. Also, market orders tend to be followed by limit orders which restore the depleted queue."
   ]
  },
  {
   "cell_type": "markdown",
   "metadata": {},
   "source": [
    "Analyses to perform:\n",
    "1. Try to derive a theory for the time evolution of the mid price\n",
    "2. Extended master equation to account for all of the above effects\n",
    "3. A large-$N$ expansion and derive some jump-diffusion equations based on temporal scales\n",
    "4. Bayesian analysis and inference of the market using mock data generated with the simulator using a general model with the above suggestions and either derivatives of the likelihood from the ODE using the multiple-adjoint method or an ABC emulator method\n",
    "5. Bayesian analysis and inference of the market using mock data generated with the simulator using a geometric Brownian motion model for the mid price only to mimic Black-Scholes risk calibration"
   ]
  },
  {
   "cell_type": "code",
   "execution_count": null,
   "metadata": {},
   "outputs": [],
   "source": []
  },
  {
   "cell_type": "markdown",
   "metadata": {},
   "source": [
    "## Bayesian agent extensions to the Santa Fe model\n",
    "\n",
    "In this section we will build cleverer agents in a new class to place within the above market simulation - these are Bayesian agents who treat the market like a geometric Brownian motion and try to infer price movements from this and mock correlated markets. They will also seek to maximise their respective log-returns over time using this inferred knowledge via an dynamic hedging strategy given their internal models."
   ]
  },
  {
   "cell_type": "code",
   "execution_count": null,
   "metadata": {},
   "outputs": [],
   "source": []
  }
 ],
 "metadata": {
  "kernelspec": {
   "display_name": "base",
   "language": "python",
   "name": "base"
  },
  "language_info": {
   "codemirror_mode": {
    "name": "ipython",
    "version": 3
   },
   "file_extension": ".py",
   "mimetype": "text/x-python",
   "name": "python",
   "nbconvert_exporter": "python",
   "pygments_lexer": "ipython3",
   "version": "3.8.5"
  }
 },
 "nbformat": 4,
 "nbformat_minor": 4
}
