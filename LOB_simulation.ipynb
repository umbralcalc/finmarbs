{
 "cells": [
  {
   "cell_type": "markdown",
   "metadata": {},
   "source": [
    "# Limit order book (LOB) simulation\n",
    "\n",
    "Using [Bouchaud et al. (2018)](https://doi.org/10.1017/9781316659335) as the main reference here.\n",
    "\n",
    "The simulation of financial markets through the use of agent-based models is an increasingly popular technique to understand the microstructure of their dynamics from the bottom up. In this notebook, we'll look at an example market simulation."
   ]
  },
  {
   "cell_type": "code",
   "execution_count": 1,
   "metadata": {},
   "outputs": [],
   "source": [
    "# Standard imports\n",
    "import numpy as np\n",
    "import pandas as pd\n",
    "import matplotlib.pyplot as plt\n",
    "import seaborn as sns\n",
    "sns.set()\n",
    "\n",
    "# Get the class structures\n",
    "import sys\n",
    "sys.path.append(\"/Users/Rob/work/finmarbs/utils/\")\n",
    "from lobsim import LOBsim\n",
    "from sfagent import SFagentens"
   ]
  },
  {
   "cell_type": "markdown",
   "metadata": {},
   "source": [
    "Begin with an **individual-agent** version of the original **Santa Fe model** using a synchronous ensemble rejection algorithm. The key point here is to make sure the overall holding rate is large enough which should limit the number of anachronisms in the order flow..."
   ]
  },
  {
   "cell_type": "code",
   "execution_count": 2,
   "metadata": {},
   "outputs": [],
   "source": [
    "setup = {\n",
    "    # Number of agents\n",
    "    \"Nagents\" : 100,\n",
    "    # Limit order rate per agent\n",
    "    \"LOrateperagent\" : 2.0,\n",
    "    # Market order rate per agent\n",
    "    \"MOrateperagent\" : 0.1,\n",
    "    # Cancel order rate per agent\n",
    "    \"COrateperagent\" : 0.01,\n",
    "    # The overall holding rate\n",
    "    \"HOrate\" : 50.0,\n",
    "    # Limit order decay power in price units\n",
    "    \"LOdecay\" : 0.05,\n",
    "    # Initial bid tick\n",
    "    \"initbidpricetick\" : 50,\n",
    "    # Initial ask tick\n",
    "    \"initaskpricetick\" : 51,\n",
    "    # The price tick size\n",
    "    \"tickscale\" : 1.0,\n",
    "    # The number of price points simulated\n",
    "    \"Nlattice\" : 100,\n",
    "}\n",
    "\n",
    "# Initialise the LOB simulation\n",
    "los = LOBsim(setup, agentens=SFagentens)\n",
    "\n",
    "# Iterate the LOB over time\n",
    "tend, t = 100.0, 0.0\n",
    "midps = []\n",
    "while t < tend:\n",
    "    los.iterate()\n",
    "    t = los.time\n",
    "    midps.append([t, los.market_state_info[\"midprice\"]])"
   ]
  },
  {
   "cell_type": "code",
   "execution_count": 3,
   "metadata": {},
   "outputs": [
    {
     "data": {
      "image/png": "[encoded data removed]",
      "text/plain": [
       "<Figure size 1080x360 with 2 Axes>"
      ]
     },
     "metadata": {},
     "output_type": "display_data"
    }
   ],
   "source": [
    "fig, ax = plt.subplots(1, 2, figsize=(15, 5))\n",
    "ax[0].bar(los.prices, los.asks)\n",
    "ax[0].bar(los.prices, -los.bids)\n",
    "ax[1].plot(np.asarray(midps)[:, 0], np.asarray(midps)[:, 1])\n",
    "ax[0].set_ylabel('Volume')\n",
    "ax[0].set_xlabel('Price')\n",
    "ax[1].set_ylabel('Mid price')\n",
    "ax[1].set_xlabel('Time')\n",
    "plt.show()"
   ]
  },
  {
   "cell_type": "markdown",
   "metadata": {},
   "source": [
    "The master equation for the process above at price $p$ is\n",
    "\n",
    "$$\n",
    "\\begin{align}\n",
    "\\frac{{\\rm d}}{{\\rm d}t}P_p(V_b,V_a,t) &= \\frac{1}{2}\\sum_{\\forall i}\\lambda_i[m(t)-p] P_p(V_b-1,V_a,t) + \\frac{1}{2}\\sum_{\\forall i}\\lambda_i[p-m(t)] P_p(V_b,V_a-1,t) \\\\\n",
    "&+ \\frac{1}{2}\\sum_{\\forall i}\\mu_i(p-b) P_p(V_b+1,V_a,t) + \\frac{1}{2}\\sum_{\\forall i}\\mu_i(p-a) P_p(V_b,V_a+1,t) \\\\\n",
    "&+ \\frac{1}{2}\\sum_{\\forall i}\\nu_i (V_{ib}+1) P_p(V_b+1,V_a,t) + \\frac{1}{2}\\sum_{\\forall i}\\nu_i(V_{ia}+1) P_p(V_b,V_a+1,t) \\\\\n",
    "&- \\frac{1}{2}\\sum_{\\forall i}\n",
    "\\big\\{\\lambda_i[m(t)-p] + \\lambda_i[p-m(t)] + \\mu_i(p-b) + \\mu_i(p-a) + \\nu_i V_{ib} + \\nu_iV_{ia} \\big\\} P_p(V_b,V_a,t)\\,,\n",
    "\\end{align}\n",
    "$$\n",
    "\n",
    "where $m(t)=[b(t)+a(t)]/2$ is the mid price and the other functions are\n",
    "\n",
    "$$\n",
    "\\begin{equation}\n",
    "\\lambda_i(x) = \\lambda_ie^{-\\alpha x}\\mathbb{1}_{x>0}\\,, \\quad \\mu_i(x) = \\mu_i\\mathbb{1}_{x=0}\\,,\n",
    "\\end{equation}\n",
    "$$\n",
    "\n",
    "where $\\lambda_i$ is a limit order rate, $\\mu_i$ is a market order rate and $\\nu_i$ is an order-cancellation rate for the $i$-th agent. Note that we denote $\\mathbb{1}_A$ as an indicator function which takes value unity when $A$ is true, else 0."
   ]
  },
  {
   "cell_type": "markdown",
   "metadata": {},
   "source": [
    "Model improvements/extensions to consider:\n",
    "1. Time-dependent rate parameters to follow exogeneous market intra-day patterns and seasonality trends.\n",
    "2. Self-exciting processes to deal with endogeneous effects, like event clustering.\n",
    "3. Available-volume-dependent market order rates.\n",
    "4. Relative probabilities of ask/bid market orders depends on the available volume imbalance.\n",
    "5. Order flows that are **not** independent from one-another. E.g. include the long-range autocorrelation of market order signs. Also, market orders tend to be followed by limit orders which restore the depleted queue.\n",
    "6. Cleverer agents within the market - Bayesian agents who treat the market like a geometric Brownian motion and try to infer price movements from this."
   ]
  },
  {
   "cell_type": "markdown",
   "metadata": {},
   "source": [
    "Analysis methods to consider:\n",
    "1. Extended master equation to account for all of the above effects\n",
    "2. A van Kampen expansion of the master equation and derive some jump-diffusion equations based on temporal scales\n",
    "3. Compute a moment-closed ODE based using the master equation for likelihood evaluation\n",
    "4. Derivatives of the likelihood from the ODE using the multiple-adjoint method\n",
    "5. Bayesian analysis and inference of the market with the simpler derived stochastic models"
   ]
  },
  {
   "cell_type": "code",
   "execution_count": null,
   "metadata": {},
   "outputs": [],
   "source": []
  }
 ],
 "metadata": {
  "kernelspec": {
   "display_name": "base",
   "language": "python",
   "name": "base"
  },
  "language_info": {
   "codemirror_mode": {
    "name": "ipython",
    "version": 3
   },
   "file_extension": ".py",
   "mimetype": "text/x-python",
   "name": "python",
   "nbconvert_exporter": "python",
   "pygments_lexer": "ipython3",
   "version": "3.8.5"
  }
 },
 "nbformat": 4,
 "nbformat_minor": 4
}
