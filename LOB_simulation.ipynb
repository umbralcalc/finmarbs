{
 "cells": [
  {
   "cell_type": "markdown",
   "metadata": {},
   "source": [
    "# Limit order book (LOB) simulation\n",
    "\n",
    "Using [Bouchaud et al. (2018)](https://doi.org/10.1017/9781316659335) as the main reference here.\n",
    "\n",
    "The simulation of financial markets through the use of agent-based models is an increasingly popular technique to understand the microstructure of their dynamics from the bottom up. In this notebook, we'll look at an example market simulation."
   ]
  },
  {
   "cell_type": "code",
   "execution_count": 1,
   "metadata": {},
   "outputs": [],
   "source": [
    "# Standard imports\n",
    "import numpy as np\n",
    "import pandas as pd\n",
    "import matplotlib.pyplot as plt\n",
    "import seaborn as sns\n",
    "sns.set()\n",
    "\n",
    "# Get the class structures\n",
    "import sys\n",
    "sys.path.append(\"/Users/Rob/work/finmarbs/utils/\")\n",
    "from lobsim import LOBsim\n",
    "from sfagent import SFagentens"
   ]
  },
  {
   "cell_type": "markdown",
   "metadata": {},
   "source": [
    "Begin with an **individual-agent** version of the original **Santa Fe model** using a synchronous ensemble rejection algorithm. The key point here is to make sure the overall holding rate is large enough which should limit the number of anachronisms in the order flow..."
   ]
  },
  {
   "cell_type": "code",
   "execution_count": 4,
   "metadata": {},
   "outputs": [],
   "source": [
    "setup = {\n",
    "    # Number of agents\n",
    "    \"Nagents\" : 100,\n",
    "    # Limit order rate per agent\n",
    "    \"LOrateperagent\" : 10.0,\n",
    "    # Market order rate per agent\n",
    "    \"MOrateperagent\" : 0.5,\n",
    "    # Cancel order rate per agent\n",
    "    \"COrateperagent\" : 0.1,\n",
    "    # Limit order bid ratio\n",
    "    \"LObidratio\" : 0.45,\n",
    "    # Market order bid ratio\n",
    "    \"MObidratio\" : 0.45,\n",
    "    # Cancel order bid ratio\n",
    "    \"CObidratio\" : 0.45,\n",
    "    # The overall holding rate\n",
    "    \"HOrate\" : 50.0,\n",
    "    # Limit order decay power in price units\n",
    "    \"LOdecay\" : 0.05,\n",
    "    # Initial bid tick\n",
    "    \"initbidpricetick\" : 50,\n",
    "    # Initial ask tick\n",
    "    \"initaskpricetick\" : 51,\n",
    "    # The price tick size\n",
    "    \"tickscale\" : 1.0,\n",
    "    # The number of price points simulated\n",
    "    \"Nlattice\" : 100,\n",
    "}\n",
    "\n",
    "# Initialise the LOB simulation\n",
    "los = LOBsim(setup, agentens=SFagentens)\n",
    "\n",
    "# Iterate the LOB over time\n",
    "tend, t = 100.0, 0.0\n",
    "midps = []\n",
    "while t < tend:\n",
    "    los.iterate()\n",
    "    t = los.time\n",
    "    midps.append([t, los.market_state_info[\"midprice\"]])"
   ]
  },
  {
   "cell_type": "code",
   "execution_count": 5,
   "metadata": {},
   "outputs": [
    {
     "data": {
      "image/png": "[encoded data removed]",
      "text/plain": [
       "<Figure size 1080x360 with 2 Axes>"
      ]
     },
     "metadata": {},
     "output_type": "display_data"
    }
   ],
   "source": [
    "fig, ax = plt.subplots(1, 2, figsize=(15, 5))\n",
    "ax[0].bar(los.prices, los.asks)\n",
    "ax[0].bar(los.prices, -los.bids)\n",
    "ax[1].plot(np.asarray(midps)[:, 0], np.asarray(midps)[:, 1])\n",
    "ax[0].set_ylabel('Volume')\n",
    "ax[0].set_xlabel('Price')\n",
    "ax[1].set_ylabel('Mid price')\n",
    "ax[1].set_xlabel('Time')\n",
    "plt.show()"
   ]
  },
  {
   "cell_type": "markdown",
   "metadata": {},
   "source": [
    "The master equation for the process above at price $p$ is\n",
    "\n",
    "$$\n",
    "\\begin{align}\n",
    "\\frac{{\\rm d}}{{\\rm d}t}P(\\dots, V^p_{ib}, \\dots, V^p_{ia}, \\dots, t) &= \\frac{1}{2}\\sum_{\\forall i}r^{\\lambda}_{ib}\\lambda_i[m(t)-p] P(\\dots, V^p_{ib}-1, \\dots, V^p_{ia}, \\dots, t) \\\\\n",
    "&+ \\frac{1}{2}\\sum_{\\forall i}(1-r^{\\lambda}_{ib})\\lambda_i[p-m(t)] P(\\dots, V^p_{ib}, \\dots, V^p_{ia}-1, \\dots, t) \\\\\n",
    "&+ \\frac{1}{2}\\sum_{\\forall i}\\frac{(V^p_{ib}+1)\\sum_{\\forall i'}r^{\\mu}_{i'b}\\mu_{i'}[p-b(t)]}{V^p_{ib}+1+\\sum_{\\forall i'\\neq i}V^p_{i'b}} P(\\dots, V^p_{ib}+1, \\dots, V^p_{ia}, \\dots, t) \\\\\n",
    "&+ \\frac{1}{2}\\sum_{\\forall i}\\frac{(V^p_{ia}+1)\\sum_{\\forall i'}(1-r^{\\mu}_{i'b})\\mu_{i'}[p-a(t)]}{V^p_{ia}+1+\\sum_{\\forall i'\\neq i}V^p_{i'a}} P(\\dots, V^p_{ib}, \\dots, V^p_{ia}+1, \\dots, t) \\\\\n",
    "&+ \\frac{1}{2}\\sum_{\\forall i}(V^p_{ib}+1)r^{\\nu}_{ib}\\nu_i P(\\dots, V^p_{ib}+1, \\dots, V^p_{ia}, \\dots, t) \\\\\n",
    "&+ \\frac{1}{2}\\sum_{\\forall i}(V^p_{ia}+1)(1-r^{\\nu}_{ib}) \\nu_i P(\\dots, V^p_{ib}, \\dots, V^p_{ia}+1, \\dots, t) \\\\\n",
    "&- \\frac{1}{2}\\sum_{\\forall i}\n",
    "\\bigg\\{ r^{\\lambda}_{ib}\\lambda_i[m(t)-p] + (1-r^{\\lambda}_{ib})\\lambda_i[p-m(t)] + r^{\\mu}_{ib}\\mu_i[p-b(t)] \\\\\n",
    "& \\qquad \\qquad + (1-r^{\\mu}_{ib})\\mu_i[p-a(t)] + r^{\\nu}_{ib}\\nu_i V^p_{ib} + (1-r^{\\nu}_{ib})\\nu_iV^p_{ia} \\bigg\\} P(\\dots, V^p_{ib}, \\dots, V^p_{ia}, \\dots, t)\\,,\n",
    "\\end{align}\n",
    "$$\n",
    "\n",
    "where $m(t)=[b(t)+a(t)]/2$ is the mid price and the other functions are\n",
    "\n",
    "$$\n",
    "\\begin{equation}\n",
    "\\lambda_i(x) = \\lambda_ie^{-\\alpha x}\\mathbb{1}_{x>0}\\,, \\quad \\mu_i(x) = \\mu_i\\mathbb{1}_{x=0}\\,,\n",
    "\\end{equation}\n",
    "$$\n",
    "\n",
    "where $\\lambda_i$ is a limit order rate, $r^{\\lambda}_{ib}$ is the limit order bid ratio, $\\mu_i$ is a market order rate, $r^{\\mu}_{ib}$ is the market order bid ratio, $\\nu_i$ is an order-cancellation rate and $r^{\\nu}_{ib}$ is the order-cancellation bid ratio for the $i$-th agent. Note that we denote $\\mathbb{1}_A$ as an indicator function which takes value unity when $A$ is true, else 0.\n",
    "\n",
    "Let us now approximate the terms $V^p_{ia}+1+\\sum_{\\forall i'\\neq i}V^p_{i'a}$ and $V^p_{ib}+1+\\sum_{\\forall i'\\neq i}V^p_{i'b}$ in the denominator of the market order rate coefficients for the $i$-th agent to be the time-dependent processes $F^p_{a}(t)$ and $F^p_{b}(t)$ which are uncorrelated to the $i$-th agent's actions. By then marginalising over the full master equation bid and ask volumes $\\forall i'\\neq i$, we can hence obtain an approximate equation for each individual agent\n",
    "\n",
    "$$\n",
    "\\begin{align}\n",
    "\\frac{{\\rm d}}{{\\rm d}t}P(V^p_{ib}, V^p_{ia}, t) &\\simeq \\frac{1}{2}r^{\\lambda}_{ib}\\lambda_i[m(t)-p] P(V^p_{ib}-1, V^p_{ia}, t) + \\frac{1}{2}(1-r^{\\lambda}_{ib})\\lambda_i[p-m(t)] P(V^p_{ib}, V^p_{ia}-1, t) \\\\\n",
    "&+ \\sum_{\\forall i'}r^{\\mu}_{i'b}\\mu_{i'}[p-b(t)] \\frac{(V^p_{ib}+1)}{2F^p_{b}(t)}P(V^p_{ib}+1, V^p_{ia}, t) + \\sum_{\\forall i'}(1-r^{\\mu}_{i'b})\\mu_{i'}[p-a(t)] \\frac{(V^p_{ia}+1)}{2F^p_{a}(t)}P(V^p_{ib}, V^p_{ia}+1, t) \\\\\n",
    "&+ \\frac{1}{2}(V^p_{ib}+1)r^{\\nu}_{ib}\\nu_i P(V^p_{ib}+1, V^p_{ia}, t) + \\frac{1}{2}(V^p_{ia}+1) (1-r^{\\nu}_{ib})\\nu_i P(V^p_{ib}, V^p_{ia}+1, t) \\\\\n",
    "&- \\frac{1}{2}\n",
    "\\bigg\\{ r^{\\lambda}_{ib}\\lambda_i[m(t)-p] + (1-r^{\\lambda}_{ib})\\lambda_i[p-m(t)] + \\sum_{\\forall i'}r^{\\mu}_{i'b}\\mu_{i'}[p-b(t)] \\frac{V^p_{ib}}{2F^p_{b}(t)} \\\\\n",
    "& \\qquad \\qquad + \\sum_{\\forall i'}(1-r^{\\mu}_{i'b})\\mu_{i'}[p-a(t)] \\frac{V^p_{ia}}{2F^p_{a}(t)} + r^{\\nu}_{ib}\\nu_i V^p_{ib} + (1-r^{\\nu}_{ib})\\nu_iV^p_{ia} \\bigg\\} P(V^p_{ib}, V^p_{ia}, t)\\,.\n",
    "\\end{align}\n",
    "$$\n",
    "\n",
    "Taking the first moments of this equation with respect to $V^p_a$ and $V^p_b$ in turn, we then obtain the probability mass function solution of two independent time-inhomogeneous Poisson processes\n",
    "\n",
    "$$\n",
    "\\begin{align}\n",
    "P(V^p_{ib}, V^p_{ia}, t) &\\simeq {\\rm Poisson}\\big[ V^p_{ib};{\\rm E}_{t}(V^p_{ib})\\big] {\\rm Poisson}\\big[ V^p_{ia};{\\rm E}_{t}(V^p_{ia})\\big]\\\\\n",
    "{\\rm E}_{t}(V^p_{ib}) &\\simeq {\\rm E}_{t_0}(V^p_{ib})\\exp \\bigg\\{ - \\int_{t_0}^t \\frac{\\sum_{\\forall i'}r^{\\mu}_{i'b}\\mu_{i'}[p-b(t')]}{2F^p_{b}(t')}{\\rm d}t' - \\frac{1}{2}r^{\\nu}_{ib}\\nu_i(t-t_0)\\bigg\\} \\\\\n",
    "&+  \\frac{1}{2}\\int_{t_0}^t {\\rm d}t' r^{\\lambda}_{ib}\\lambda_i[m(t')-p] \\exp \\bigg\\{ - \\int_{t'}^t \\frac{\\sum_{\\forall i'}r^{\\mu}_{i'b}\\mu_{i'}[p-b(t'')]}{2F^p_{b}(t'')}{\\rm d}t'' - \\frac{1}{2}r^{\\nu}_{ib}\\nu_i(t-t')\\bigg\\} \\\\\n",
    "{\\rm E}_{t}(V^p_{ia}) &\\simeq {\\rm E}_{t_0}(V^p_{ia})\\exp \\bigg\\{ - \\int_{t_0}^t\\frac{\\sum_{\\forall i'}(1-r^{\\mu}_{i'b})\\mu_{i'}[p-a(t')]}{2F^p_{a}(t')}{\\rm d}t' - \\frac{1}{2}(1-r^{\\nu}_{i'b})\\nu_i(t-t_0)\\bigg\\} \\\\\n",
    "&+ \\frac{1}{2}\\int_{t_0}^t{\\rm d}t'(1-r^{\\lambda}_{ib})\\lambda_i[p-m(t')]\\exp \\bigg\\{ - \\int_{t'}^t\\frac{\\sum_{\\forall i'}(1-r^{\\mu}_{i'b})\\mu_{i'}[p-a(t'')]}{2F^p_{a}(t'')}{\\rm d}t'' - \\frac{1}{2}(1-r^{\\nu}_{i'b})\\nu_i(t-t')\\bigg\\} \\,.\n",
    "\\end{align}\n",
    "$$\n",
    "\n",
    "Note that by summing over $i$, we obtain an approximate description of the volume queue at each price $p$. Furthermore, we may infer that the probabilities for a price having non-zero bid or ask volume, respectively, at time $t$ are given by\n",
    "\n",
    "$$\n",
    "\\begin{equation}\n",
    "P(V^p_{b}>0, t) = 1-e^{-\\sum_{\\forall i}{\\rm E}_{t}(V^p_{ib})}\\,, \\qquad P(V^p_{a}>0, t) = 1-e^{-\\sum_{\\forall i}{\\rm E}_{t}(V^p_{ia})}\\,.\n",
    "\\end{equation}\n",
    "$$"
   ]
  },
  {
   "cell_type": "markdown",
   "metadata": {},
   "source": [
    "Model improvements/extensions to consider:\n",
    "1. Self-exciting processes to deal with endogeneous effects, like event clustering.\n",
    "2. Available-volume-dependent market order rates, e.g., $\\mu_i=\\mu_i[p-b(t),V^b_{ib}]$.\n",
    "3. Relative probabilities of ask/bid market orders depends on the available volume imbalance, i.e., $r_{ib} \\rightarrow \\frac{r_{ib}+\\sum_{\\forall i'}V^b_{i'b}}{1+\\sum_{\\forall i'}(V^b_{i'b} + V^a_{i'a})}$.\n",
    "4. Order flows that are **not** independent from one-another. E.g., include the long-range autocorrelation of market order signs. Also, market orders tend to be followed by limit orders which restore the depleted queue.\n",
    "5. Cleverer agents within the market - Bayesian agents who treat the market like a geometric Brownian motion and try to infer price movements from this."
   ]
  },
  {
   "cell_type": "markdown",
   "metadata": {},
   "source": [
    "Analyses to perform:\n",
    "1. Try to derive a theory for the time evolution of the mid price\n",
    "2. Extended master equation to account for all of the above effects\n",
    "3. A large-$N$ expansion and derive some jump-diffusion equations based on temporal scales\n",
    "4. Bayesian analysis and inference of the market using mock data generated with the simulator using a general model with the above suggestions and either derivatives of the likelihood from the ODE using the multiple-adjoint method or an ABC emulator method\n",
    "5. Bayesian analysis and inference of the market using mock data generated with the simulator using a geometric Brownian motion model for the mid price only to mimic Black-Scholes risk calibration"
   ]
  },
  {
   "cell_type": "code",
   "execution_count": null,
   "metadata": {},
   "outputs": [],
   "source": []
  }
 ],
 "metadata": {
  "kernelspec": {
   "display_name": "base",
   "language": "python",
   "name": "base"
  },
  "language_info": {
   "codemirror_mode": {
    "name": "ipython",
    "version": 3
   },
   "file_extension": ".py",
   "mimetype": "text/x-python",
   "name": "python",
   "nbconvert_exporter": "python",
   "pygments_lexer": "ipython3",
   "version": "3.8.5"
  }
 },
 "nbformat": 4,
 "nbformat_minor": 4
}
