{
 "cells": [
  {
   "cell_type": "markdown",
   "metadata": {},
   "source": [
    "# Limit order book (LOB) simulation\n",
    "\n",
    "Using [Bouchaud et al. (2018)](https://doi.org/10.1017/9781316659335) as the main reference here.\n",
    "\n",
    "Also look at [Blanc, Donier & Bouchaud (2015)](https://doi.org/10.1080/14697688.2016.1193215) for the right Hawkes process ideas.\n",
    "\n",
    "The simulation of financial markets through the use of agent-based models is an increasingly popular technique to understand the microstructure of their dynamics from the bottom up. In this notebook, we'll look at an example market simulation."
   ]
  },
  {
   "cell_type": "code",
   "execution_count": 1,
   "metadata": {},
   "outputs": [],
   "source": [
    "# Standard imports\n",
    "import numpy as np\n",
    "import pandas as pd\n",
    "import matplotlib.pyplot as plt\n",
    "import seaborn as sns\n",
    "sns.set()\n",
    "\n",
    "# Get the class structures\n",
    "import sys\n",
    "sys.path.append(\"/Users/Rob/work/finmarbs/utils/\")\n",
    "from lobsim import LOBsim\n",
    "from sfagent import SFagentens"
   ]
  },
  {
   "cell_type": "markdown",
   "metadata": {},
   "source": [
    "Begin with a **heterogeneous individual-agent** version of the original **Santa Fe model** using a synchronous ensemble rejection algorithm. The key point here is to make sure the overall holding rate is large enough which should limit the number of anachronisms in the order flow..."
   ]
  },
  {
   "cell_type": "code",
   "execution_count": 4,
   "metadata": {},
   "outputs": [],
   "source": [
    "setup = {\n",
    "    # Number of agents\n",
    "    \"Nagents\" : 100,\n",
    "    # 1/variance in agent relative trading rates\n",
    "    \"heterok\" : 0.5,\n",
    "    # Mean global agent speculation rate\n",
    "    \"meanspecrate\" : 1.0,\n",
    "    # Mean limit order rate per agent on the bid side\n",
    "    \"meanLOratebid\" : 1.5,\n",
    "    # Mean limit order rate per agent on the ask side\n",
    "    \"meanLOrateask\" : 1.5,\n",
    "    # Mean market order rate per agent on the bid side\n",
    "    \"meanMOratebid\" : 0.3,\n",
    "    # Mean market order rate per agent on the ask side\n",
    "    \"meanMOrateask\" : 0.3,\n",
    "    # Mean cancel order rate per agent on the bid side\n",
    "    \"meanCOratebid\" : 0.1,\n",
    "    # Mean cancel order rate per agent on the ask side\n",
    "    \"meanCOrateask\" : 0.1,\n",
    "    # The overall mean holding rate\n",
    "    \"meanHOrate\" : 100.0,\n",
    "    # Limit order decay power in price units\n",
    "    \"LOdecay\" : 0.1,\n",
    "    # Initial bid tick\n",
    "    \"initbidpricetick\" : 100,\n",
    "    # Initial ask tick\n",
    "    \"initaskpricetick\" : 101,\n",
    "    # The price tick size\n",
    "    \"tickscale\" : 1.0,\n",
    "    # The number of price points simulated\n",
    "    \"Nlattice\" : 200,\n",
    "    # Hawkes kernel power for endogeneous excitations\n",
    "    \"Hawkespow\" : 0.8,\n",
    "    # Trader behaviour ratio between endogeneous vs exogeneous\n",
    "    \"rbehaviours\" : np.random.uniform(size=100),\n",
    "}\n",
    "\n",
    "# Initialise the LOB simulation\n",
    "los = LOBsim(setup, agentens=SFagentens)\n",
    "\n",
    "# Iterate the LOB over time\n",
    "tend, t = 100.0, 0.0\n",
    "midps = []\n",
    "while t < tend:\n",
    "    los.iterate()\n",
    "    t = los.time\n",
    "    midps.append([t, los.market_state_info[\"midprice\"]])"
   ]
  },
  {
   "cell_type": "code",
   "execution_count": 5,
   "metadata": {},
   "outputs": [
    {
     "data": {
      "image/png": "[encoded data removed]",
      "text/plain": [
       "<Figure size 1224x360 with 2 Axes>"
      ]
     },
     "metadata": {},
     "output_type": "display_data"
    }
   ],
   "source": [
    "fig, ax = plt.subplots(1, 2, figsize=(17, 5))\n",
    "ax[0].bar(los.prices, los.asks)\n",
    "ax[0].bar(los.prices, -los.bids)\n",
    "ax[1].plot(np.asarray(midps)[:, 0], np.asarray(midps)[:, 1])\n",
    "ax[0].set_ylabel('Volume')\n",
    "ax[0].set_xlabel('Price')\n",
    "ax[1].set_ylabel('Mid price')\n",
    "ax[1].set_xlabel('Time')\n",
    "plt.show()"
   ]
  },
  {
   "cell_type": "markdown",
   "metadata": {},
   "source": [
    "The master equation for the process above at price $p$ is\n",
    "\n",
    "$$\n",
    "\\begin{align}\n",
    "\\frac{{\\rm d}}{{\\rm d}t}P(\\dots, V^p_{ib}, \\dots, V^p_{ia}, \\dots, t) &= \\sum_{\\forall i}\\gamma_{ib}(t)\\lambda^p_b(t) P(\\dots, V^p_{ib}-1, \\dots, V^p_{ia}, \\dots, t) \\\\\n",
    "&+ \\sum_{\\forall i}\\gamma_{ia}(t)\\lambda^p_a(t) P(\\dots, V^p_{ib}, \\dots, V^p_{ia}-1, \\dots, t) \\\\\n",
    "&+ \\sum_{\\forall i}\\frac{(V^p_{ib}+1)\\sum_{\\forall i'}\\mu^p_{i'b}(t)}{1+\\sum_{\\forall i'}V^p_{i'b}} P(\\dots, V^p_{ib}+1, \\dots, V^p_{ia}, \\dots, t) \\\\\n",
    "&+ \\sum_{\\forall i}\\frac{(V^p_{ia}+1)\\sum_{\\forall i'}\\mu^p_{i'a}(t)}{1+\\sum_{\\forall i'}V^p_{i'a}} P(\\dots, V^p_{ib}, \\dots, V^p_{ia}+1, \\dots, t) \\\\\n",
    "&+ \\sum_{\\forall i}(V^p_{ib}+1)\\nu_b P(\\dots, V^p_{ib}+1, \\dots, V^p_{ia}, \\dots, t) \\\\\n",
    "&+ \\sum_{\\forall i}(V^p_{ia}+1)\\nu_a P(\\dots, V^p_{ib}, \\dots, V^p_{ia}+1, \\dots, t) \\\\\n",
    "&- \\sum_{\\forall i}\n",
    "\\bigg\\{ \\gamma_{ib}(t)\\lambda^p_b(t) + \\gamma_{ia}(t)\\lambda^p_a(t) + \\mu^p_{ib}(t) + \\mu^p_{ia}(t) + V^p_{ib}\\nu_b + V^p_{ia}\\nu_a \\bigg\\} P(\\dots, V^p_{ib}, \\dots, V^p_{ia}, \\dots, t)\\,,\n",
    "\\end{align}\n",
    "$$\n",
    "\n",
    "where $m(t)=[b(t)+a(t)]/2$ is the mid price and the other functions are\n",
    "\n",
    "$$\n",
    "\\begin{equation}\n",
    "\\lambda^p_b(t) = \\lambda_b \\mathbb{1}_{m(t)\\geq p} e^{-\\alpha [m(t)-p]}\\,, \\quad \\lambda^p_a(t) = \\lambda_a \\mathbb{1}_{p\\geq m(t)} e^{-\\alpha [p-m(t)]}\\,, \\quad \\mu^p_{ib}(t) = \\mu_{ib}(t) \\mathbb{1}_{a(t)= p}\\,, \\quad \\mu^p_{ia}(t) = \\mu_{ia}(t) \\mathbb{1}_{b(t)= p} \\,,\n",
    "\\end{equation}\n",
    "$$\n",
    "\n",
    "where: $\\lambda_b\\,, \\lambda_a$ are the average limit order rates per agent; $\\alpha$ is the limit order decay power; $\\mu_b(t)\\,, \\mu_a(t)$ are the average market order rates per agent; $\\nu_b\\,, \\nu_a$ are the average order-cancellation rates per agent; and $\\gamma_{ib}(t), \\gamma_{ia}(t)$ model the $i$-th agents' preferred relative trading rates, which we draw in each case from a unit-mean and $1/k$-variance gamma distribution, i.e., ${\\rm PDF}(\\gamma_{ia})={\\rm Gamma}(\\gamma_{ia};k,k)$ and refresh for each agent at a constant speculation rate of $s$. Note that we denote $\\mathbb{1}_A$ as an indicator function which takes value unity when $A$ is true, else 0.\n",
    "\n",
    "In the above model, we've chosen to model exogeneously-driven price movements through limit order flow imbalances via each agents' preferred relative trading rates, which are themselves stochastically updated in time. In contrast, the endogeneous self-excitations are modelled by Hawkes process kernels for the market order rates\n",
    "\n",
    "$$\n",
    "\\begin{align}\n",
    "\\mu_{ib}(t) &= r_i\\mu_{b} - (1-r_i)\\int^{t}_{t_0}\\Phi (t-t')\\sum_{\\forall i'}{\\rm d}V^{a}_{i'b}(t') \\\\\n",
    "\\mu_{ia}(t) &= r_i\\mu_{a} - (1-r_i)\\int^{t}_{t_0}\\Phi (t-t')\\sum_{\\forall i'}{\\rm d}V^{b}_{i'a}(t') \\,,\n",
    "\\end{align}\n",
    "$$\n",
    "\n",
    "where $r_i\\in [0, 1]$ is a ratio which governs each agents' individual level of reactionary behaviour.\n",
    "\n",
    "In the limit where $r_i=1$ for all agents, let us now approximate the volume sums to be the time-dependent stochastic processes $F^p_{a}(t) \\simeq \\sum_{\\forall i'}V^p_{i'a}(t)$ and $F^p_{b}(t) \\simeq \\sum_{\\forall i'}V^p_{i'b}(t)$ which are uncorrelated to the $i$-th agent's actions. By then marginalising over the full master equation bid and ask volumes $\\forall i'\\neq i$, we can hence obtain an approximate equation for each individual agent\n",
    "\n",
    "$$\n",
    "\\begin{align}\n",
    "\\frac{{\\rm d}}{{\\rm d}t}P(V^p_{ib}, V^p_{ia}, t) &\\simeq \\gamma_{ib}(t)\\lambda^p_b(t) P(V^p_{ib}-1, V^p_{ia}, t) + \\gamma_{ia}(t)\\lambda^p_a(t) P(V^p_{ib}, V^p_{ia}-1, t) \\\\\n",
    "&+ \\frac{(V^p_{ib}+1)}{1 + F^p_{b}(t)}\\sum_{\\forall i'}\\mu^p_{i'b}(t)P(V^p_{ib}+1, V^p_{ia}, t) + \\frac{(V^p_{ia}+1)}{1+F^p_{a}(t)}\\sum_{\\forall i'}\\mu^p_{i'a}(t)P(V^p_{ib}, V^p_{ia}+1, t) \\\\\n",
    "&+ (V^p_{ib}+1)\\nu_b P(V^p_{ib}+1, V^p_{ia}, t) + (V^p_{ia}+1)\\nu_a P(V^p_{ib}, V^p_{ia}+1, t) \\\\\n",
    "&- \\bigg\\{ \\gamma_{ib}(t)\\lambda^p_b(t) + \\gamma_{ia}(t)\\lambda^p_a(t) + \\frac{V^p_{ib}}{1+F^p_{b}(t)}\\sum_{\\forall i'}\\mu^p_{i'b}(t) + \\frac{V^p_{ia}}{1+F^p_{a}(t)}\\sum_{\\forall i'}\\mu^p_{i'a}(t) + V^p_{ib}\\nu_b + V^p_{ia}\\nu_a \\bigg\\} P(V^p_{ib}, V^p_{ia}, t)\\,.\n",
    "\\end{align}\n",
    "$$\n",
    "\n",
    "Taking the first moments of this equation with respect to $V^p_{ia}$ and $V^p_{ib}$ in turn, we then obtain the probability mass function solution of two independent time-inhomogeneous Poisson processes\n",
    "\n",
    "$$\n",
    "\\begin{align}\n",
    "P(V^p_{ib}, V^p_{ia}, t) &\\simeq {\\rm Poisson}\\big[ V^p_{ib};{\\rm E}_{t}(V^p_{ib})\\big] {\\rm Poisson}\\big[ V^p_{ia};{\\rm E}_{t}(V^p_{ia})\\big] \\\\\n",
    "{\\rm E}_{t}(V^p_{ib}) &\\simeq {\\rm E}_{t_0}(V^p_{ib})\\exp \\bigg\\{ - \\int_{t_0}^t \\frac{\\sum_{\\forall i'}\\mu^p_{i'b}(t')}{1+F^p_{b}(t')}{\\rm d}t' - \\nu_b(t-t_0)\\bigg\\} \\\\\n",
    "&+  \\int_{t_0}^t {\\rm d}t' \\gamma_{ib}(t')\\lambda^p_b(t') \\exp \\bigg\\{ - \\int_{t'}^t \\frac{\\sum_{\\forall i'}\\mu^p_{i'b}(t'')}{1+F^p_{b}(t'')}{\\rm d}t'' - \\nu_b(t-t')\\bigg\\} \\\\\n",
    "{\\rm E}_{t}(V^p_{ia}) &\\simeq {\\rm E}_{t_0}(V^p_{ia})\\exp \\bigg\\{ - \\int_{t_0}^t \\frac{\\sum_{\\forall i'}\\mu^p_{i'a}(t')}{1+F^p_{a}(t')}{\\rm d}t' - \\nu_a(t-t_0)\\bigg\\} \\\\\n",
    "&+ \\int_{t_0}^t {\\rm d}t' \\gamma_{ia}(t')\\lambda^p_a(t') \\exp \\bigg\\{ - \\int_{t'}^t \\frac{\\sum_{\\forall i'}\\mu^p_{i'a}(t'')}{1+F^p_{a}(t'')}{\\rm d}t'' - \\nu_a(t-t')\\bigg\\} \\,.\n",
    "\\end{align}\n",
    "$$\n",
    "\n",
    "Note that by summing over $i$, we obtain an approximate description of the volume queue at each price $p$. Furthermore, we may infer that the probabilities for a price having non-zero bid or ask volume, respectively, at time $t$ are given by\n",
    "\n",
    "$$\n",
    "\\begin{equation}\n",
    "P(V^p_{b}>0, t) = 1-e^{-\\sum_{\\forall i}{\\rm E}_{t}(V^p_{ib})}\\,, \\qquad P(V^p_{a}>0, t) = 1-e^{-\\sum_{\\forall i}{\\rm E}_{t}(V^p_{ia})}\\,.\n",
    "\\end{equation}\n",
    "$$\n",
    "\n",
    "Note also that as the distribution approaches stationarity, the distributions over the sum of agent volumes $\\sum_{\\forall i}V^p_{ib}$ and $\\sum_{\\forall i}V^p_{ia}$ for a given price are also approximately Poisson (since there is an overall cancellation of the gamma-distributed factor in the second integrals within the expressions above)."
   ]
  },
  {
   "cell_type": "markdown",
   "metadata": {},
   "source": [
    "Model improvements/extensions to consider:\n",
    "1. Mutually self-exciting processes to deal with endogeneous effects, like event clustering. This can be done via the market orders depending on the recent change in volume via a Hawkes process kernel $\\Phi$, i.e., something like $\\gamma_i\\mu_b(t){\\rm d}t \\rightarrow r_i\\gamma_i\\mu_b(t){\\rm d}t + (1-r_i)\\Phi (t-t')\\sum_{\\forall i}{\\rm d}V^{a}_{ib}(t')$, where $r_i$ is a ratio which governs how much an the $i$-th trader's behaviour is exogeneously determined through fundamental price changes versus being more endogeneously determined through self-excitations. Note that we can approximate $\\sum_{\\forall i}{\\rm d}V^p_{ib}(t) \\simeq {\\rm d}F^p_{b}(t) \\simeq \\big\\{ {\\rm E}[F^p_{b}(t)] - F^p_{b}(t)\\big\\} q{\\rm d}t + {\\rm Var}[F^p_{b}(t)]^{1/2}q^{1/2}{\\rm d}W(t)$ where $q$ is some mean-reversion rate to think about.\n",
    "2. Available-volume-dependent market order rates, e.g., $\\mu_b(t)\\rightarrow \\mu_b\\big( t, \\sum_{\\forall i}V^p_{ib}\\big)$.\n",
    "3. Order flows that are **not** independent from one-another. E.g., include the long-range autocorrelation of market order signs. Also, market orders tend to be followed by limit orders which restore the depleted queue."
   ]
  },
  {
   "cell_type": "markdown",
   "metadata": {},
   "source": [
    "Analyses to perform:\n",
    "1. Try to derive a theory for the time evolution of the mid price\n",
    "2. Extended master equation to account for all of the above effects\n",
    "3. A large-$N$ expansion and derive some jump-diffusion equations based on temporal scales\n",
    "4. Bayesian analysis and inference of the market using mock data generated with the simulator using a general model with the above suggestions and either derivatives of the likelihood from the ODE using the multiple-adjoint method or an ABC emulator method\n",
    "5. Bayesian analysis and inference of the market using mock data generated with the simulator using a geometric Brownian motion model for the mid price only to mimic Black-Scholes risk calibration"
   ]
  },
  {
   "cell_type": "code",
   "execution_count": null,
   "metadata": {},
   "outputs": [],
   "source": []
  },
  {
   "cell_type": "markdown",
   "metadata": {},
   "source": [
    "## Bayesian agent extensions to the Santa Fe model\n",
    "\n",
    "In this section we will build cleverer agents in a new class to place within the above market simulation - these are Bayesian agents who treat the market like a geometric Brownian motion and try to infer price movements from this and mock correlated markets. They will also seek to maximise their respective log-returns over time using this inferred knowledge via an dynamic hedging strategy given their internal models."
   ]
  },
  {
   "cell_type": "code",
   "execution_count": null,
   "metadata": {},
   "outputs": [],
   "source": []
  }
 ],
 "metadata": {
  "kernelspec": {
   "display_name": "base",
   "language": "python",
   "name": "base"
  },
  "language_info": {
   "codemirror_mode": {
    "name": "ipython",
    "version": 3
   },
   "file_extension": ".py",
   "mimetype": "text/x-python",
   "name": "python",
   "nbconvert_exporter": "python",
   "pygments_lexer": "ipython3",
   "version": "3.8.5"
  }
 },
 "nbformat": 4,
 "nbformat_minor": 4
}
