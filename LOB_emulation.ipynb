{
 "cells": [
  {
   "cell_type": "markdown",
   "metadata": {},
   "source": [
    "# Limit order book (LOB) simulator emulation\n",
    "\n",
    "**Use pyMC3 and theano to infer the process with NUTS samplers etc...**\n",
    "\n",
    "We shall build a Bayesian emulator for the LOB simulation we built in the other notebook. The key part will be to emulate the mid price and spread time series well enough to reconstruct the LOB simulation."
   ]
  },
  {
   "cell_type": "code",
   "execution_count": 1,
   "metadata": {},
   "outputs": [],
   "source": [
    "# Standard imports\n",
    "import numpy as np\n",
    "import pandas as pd\n",
    "import matplotlib.pyplot as plt\n",
    "import seaborn as sns\n",
    "sns.set()\n",
    "\n",
    "# Get the class structures\n",
    "import sys\n",
    "sys.path.append(\"/Users/Rob/work/lobsem/src/\")\n",
    "from lobsim import LOBsim\n",
    "from sfagent import SFagentens\n",
    "from mlsolver import mlsolver"
   ]
  },
  {
   "cell_type": "markdown",
   "metadata": {},
   "source": [
    "## Emulator formalism\n",
    "\n",
    "**Introduce this formalism and discuss ways of compressing the simulator**\n",
    "\n",
    "Let us denote the complete set of volumes for both bid $B_p\\equiv\\sum_{i=0}^{N_{\\rm pr}}B_{pi}$ and ask $A_p\\equiv\\sum_{i=0}^{N_{\\rm pr}}A_{pi}$ for all liquidity providing agents and at all $p$ prices, i.e., ${\\cal V} = \\{ \\dots, B_{pi}, \\dots, A_{pi}, \\dots\\}$. Using this notation, the overall LOB master equation for the distribution over volumes $P({\\cal V}, t)$ is\n",
    "\n",
    "$$\n",
    "\\begin{align}\n",
    "\\frac{{\\rm d}}{{\\rm d}t}P({\\cal V}, t) &= \\sum_{p=\\theta}^\\infty \\sum_{i=1}^{N_{\\rm pr}}\\bigg[ \\sum^\\infty_{S=1}\\lambda^B_{p}({\\cal V}_{B_p:B_p-S}, t) L_{i} (S\\vert B_{p}-S) P({\\cal V}_{B_p:B_p-S}, t) - \\lambda^B_{p}({\\cal V}, t) P({\\cal V}, t)\\bigg] \\\\\n",
    "& + \\sum_{p=\\theta}^\\infty \\sum_{i=1}^{N_{\\rm pr}}\\bigg[ \\sum^\\infty_{S=1}\\lambda^A_{p}({\\cal V}_{A_p:A_p-S}, t) L_{i} (S\\vert A_{p}-S) P({\\cal V}_{A_p:A_p-S}, t) - \\lambda^A_{p}({\\cal V}, t) P({\\cal V}, t) \\bigg] \\\\\n",
    "& + \\sum_{p=\\theta}^\\infty \\sum_{i=1}^{N_{\\rm ta}}\\bigg[ \\sum^\\infty_{S=1}\\mu^B_{pi}({\\cal V}_{A_p:A_{p}+S}, t) M_{i} (S\\vert {\\cal V}_{A_p:A_p+S}, t) P({\\cal V}_{A_p:A_p+S}, t) - \\mu^B_{pi}({\\cal V}, t) P({\\cal V}, t)\\bigg] \\\\\n",
    "& + \\sum_{p=\\theta}^\\infty \\sum_{i=1}^{N_{\\rm ta}}\\bigg[ \\sum^\\infty_{S=1}\\mu^A_{pi}({\\cal V}_{B_p:B_{p}+S}, t) M_{i} (S\\vert {\\cal V}_{B_p:B_{p}+S}, t) P({\\cal V}_{B_p:B_{p}+S}, t) - \\mu^A_{pi}({\\cal V}, t) P({\\cal V}, t) \\bigg] \\\\\n",
    "& + \\sum_{p=\\theta}^\\infty \\sum_{i=1}^{N_{\\rm pr}}\\bigg[ (B_{p}+1)\\nu^B P({\\cal V}_{B_p:B_{p}+1}, t) - B_{p}\\nu^B P({\\cal V}, t)\\bigg] \\\\\n",
    "& + \\sum_{p=\\theta}^\\infty \\sum_{i=1}^{N_{\\rm pr}}\\bigg[ (A_{p}+1)\\nu^A P({\\cal V}_{A_p:A_{p}+1}, t) - A_{p}\\nu^A P({\\cal V}, t)\\bigg] \\,, \n",
    "\\end{align}\n",
    "$$\n",
    "\n",
    "where in the above relation we have used the notation ${\\cal V}_{X:Y}$ to denote the set ${\\cal V}$ where the element $X$ has been replaced with $Y$. The limit order rates for each liquidity-providing agent are given by\n",
    "\n",
    "$$\n",
    "\\begin{align}\n",
    "\\lambda^B_{p}({\\cal V}, t) &= \\sum_{\\delta b_-\\in \\{0, 1\\}}(1+\\alpha \\delta b_-)P(\\delta b_-\\vert {\\cal V}, t) e^{-\\frac{d}{2}[a({\\cal V})+b({\\cal V})-2p]}\\lambda^B \\mathbb{1}_{a({\\cal V})+b({\\cal V})\\geq 2p} \\\\\n",
    "\\lambda^A_{p}({\\cal V}, t) &= \\sum_{\\delta a_+\\in \\{0, 1\\}}(1+\\alpha \\delta a_+)P(\\delta a_+\\vert {\\cal V}, t) e^{-\\frac{d}{2}[2p-a({\\cal V})-b({\\cal V})]}\\lambda^A \\mathbb{1}_{2p\\geq a({\\cal V})+b({\\cal V})} \\,,\n",
    "\\end{align}\n",
    "$$\n",
    "\n",
    "where the distribution $P(\\delta b_-\\vert {\\cal V}, t)$ denotes the conditional probability that the best bid price decreased ($\\delta b_-=1$) or not ($\\delta b_-=0$) in the last transaction of the market given the current state $({\\cal V},t)$. Similarly, the distribution $P(\\delta a_+\\vert {\\cal V}, t)$ denotes the conditional probability that the best ask price _increased_ ($\\delta a_+=1$) or not ($\\delta a_+=0$) in the last transaction of the market given the current state $({\\cal V},t)$.\n",
    "\n",
    "The market order rates for each liquidity-taking agent are given by\n",
    "\n",
    "$$\n",
    "\\begin{align}\n",
    "\\mu^B_{pi}({\\cal V}, t) &= \\sum_{\\epsilon_i\\in\\{-1, 1\\}}(1+\\epsilon_i)P_i(\\epsilon_i\\vert {\\cal V}, t)\\mu^B \\mathbb{1}_{a({\\cal V})=p} \\\\\n",
    "\\mu^A_{pi}({\\cal V}, t) &= \\sum_{\\epsilon_i\\in\\{-1, 1\\}}(1-\\epsilon_i)P_i(\\epsilon_i\\vert {\\cal V}, t)\\mu^A \\mathbb{1}_{b({\\cal V})=p} \\,. \n",
    "\\end{align}\n",
    "$$"
   ]
  },
  {
   "cell_type": "code",
   "execution_count": null,
   "metadata": {},
   "outputs": [],
   "source": []
  },
  {
   "cell_type": "markdown",
   "metadata": {},
   "source": [
    "## Price emulation: Geometric Brownian motion with stochastic volatility\n",
    "\n",
    "So let's now try to build a model which compresses $({\\cal V},t)\\rightarrow (b, a, t)$. To do this, we will need to make a few approximations to the expressions in the previous section in order to gain some tractability for designing the emulator. Using the processes described in the $P({\\cal V},t)$ master equation, let us now write down an approximate master equation for $P(b, a, t)$ which assumes all price movements take value $\\theta$ (we can investigate the validity of this assumption with respect to the full LOB simulation later)\n",
    "\n",
    "$$\n",
    "\\begin{align}\n",
    "&\\frac{{\\rm d}}{{\\rm d}t}P(b, a, t) \\simeq \\\\\n",
    "& \\sum_{p=b}^\\infty \\sum_{i=1}^{N_{\\rm pr}} \\bigg[ \\tilde{\\lambda}^B_{p}(b-\\theta, a, t)P(b-\\theta, a, t) - \\tilde{\\lambda}^B_{p}(b, a, t)P(b, a, t) \\bigg] \\\\\n",
    "& + \\sum_{p=\\theta}^a \\sum_{i=1}^{N_{\\rm pr}} \\bigg[ \\tilde{\\lambda}^A_{p}(b, a+\\theta, t)P(b, a+\\theta, t) -  \\tilde{\\lambda}^A_{p}(b, a, t)P(b, a, t) \\bigg] \\\\\n",
    "& + \\sum_{i=1}^{N_{\\rm ta}} \\bigg[ \\tilde{\\mu}^B_{(a-\\theta )i}(b, a-\\theta, t) \\tilde{M}_{i} (A_{a-\\theta}\\vert b, a-\\theta, t) P(b, a-\\theta, t) - \\tilde{\\mu}^B_{ai}(b, a, t) \\tilde{M}_{i} (A_{a}\\vert b, a, t)P(b, a, t) \\bigg] \\\\\n",
    "& + \\sum_{i=1}^{N_{\\rm ta}} \\bigg[ \\tilde{\\mu}^A_{(b+\\theta )i}(b+\\theta, a, t) \\tilde{M}_{i} (B_{b+\\theta}\\vert b+\\theta, a, t)P(b+\\theta, a, t) - \\tilde{\\mu}^A_{bi}(b, a, t) \\tilde{M}_{i} (B_b\\vert b, a, t)P(b, a, t) \\bigg] \\\\\n",
    "& + \\sum_{i=1}^{N_{\\rm pr}} \\nu^A  \\bigg[ P(b, a-\\theta, t) - P(b, a, t) \\bigg]  + \\sum_{i=1}^{N_{\\rm pr}} \\nu^B \\bigg[ P(b+\\theta, a, t) - P(b, a, t) \\bigg] \\,.\n",
    "\\end{align}\n",
    "$$\n",
    "\n",
    "\n",
    "From the equation above we can quickly ascertain that the means and square-expecations of the marginal distributions over $b$ and $a$ evolve according to the equations\n",
    "\n",
    "$$\n",
    "\\begin{align}\n",
    "\\frac{{\\rm d}}{{\\rm d}t}{\\rm E}_t(b) &\\simeq \\sum_{b=\\theta}^\\infty \\sum_{a=\\theta}^\\infty \\sum_{p=b}^\\infty \\sum_{i=1}^{N_{\\rm pr}} \\theta \\tilde{\\lambda}^B_{p}(b, a, t)P(b, a, t) - \\sum_{b=\\theta}^\\infty \\sum_{a=\\theta}^\\infty \\sum_{i=1}^{N_{\\rm ta}} \\theta\\tilde{\\mu}^A_{bi}(b, a, t) \\tilde{M}_{i} (B_{b}\\vert b, a, t)P(b, a, t) - \\theta\\nu^B  \\\\\n",
    "\\frac{{\\rm d}}{{\\rm d}t}{\\rm E}_t(a) &\\simeq \\sum_{b=\\theta}^\\infty \\sum_{a=\\theta}^\\infty \\sum_{i=1}^{N_{\\rm ta}} \\theta\\tilde{\\mu}^B_{ai}(b, a, t) \\tilde{M}_{i} (A_{a}\\vert b, a, t)P(b, a, t) + \\theta\\nu^A -\\sum_{b=\\theta}^\\infty \\sum_{a=\\theta}^\\infty \\sum_{p=a}^\\theta \\sum_{i=1}^{N_{\\rm pr}} \\theta \\tilde{\\lambda}^A_{p}(b, a, t)P(b, a, t) \\\\\n",
    "\\frac{{\\rm d}}{{\\rm d}t}{\\rm E}_t(b^2) &\\simeq \\sum_{b=\\theta}^\\infty \\sum_{a=\\theta}^\\infty \\sum_{p=b}^\\infty \\sum_{i=1}^{N_{\\rm pr}} \\theta (2b + \\theta ) \\tilde{\\lambda}^B_{p}(b, a, t)P(b, a, t) - \\sum_{b=\\theta}^\\infty \\sum_{a=\\theta}^\\infty \\sum_{i=1}^{N_{\\rm ta}} \\theta (2b - \\theta )\\tilde{\\mu}^A_{bi}(b, a, t) \\tilde{M}_{i} (B_{b}\\vert b, a, t)P(b, a, t) - \\theta \\big[ 2{\\rm E}_t(b) - \\theta \\big] \\nu^B  \\\\\n",
    "\\frac{{\\rm d}}{{\\rm d}t}{\\rm E}_t(a^2) &\\simeq \\sum_{b=\\theta}^\\infty \\sum_{a=\\theta}^\\infty \\sum_{i=1}^{N_{\\rm ta}} \\theta (2a + \\theta ) \\tilde{\\mu}^B_{ai}(b, a, t) \\tilde{M}_{i} (A_{a}\\vert b, a, t)P(b, a, t) + \\theta \\big[ 2{\\rm E}_t(a) - \\theta \\big] \\nu^A -\\sum_{b=\\theta}^\\infty \\sum_{a=\\theta}^\\infty \\sum_{p=a}^\\theta \\sum_{i=1}^{N_{\\rm pr}} \\theta (2a - \\theta ) \\tilde{\\lambda}^A_{p}(b, a, t)P(b, a, t) \\\\\n",
    "\\frac{{\\rm d}}{{\\rm d}t}{\\rm E}_t(ba) &\\simeq \\sum_{b=\\theta}^\\infty \\sum_{a=\\theta}^\\infty \\sum_{p=b}^\\infty \\sum_{i=1}^{N_{\\rm pr}} \\theta a \\tilde{\\lambda}^B_{p}(b, a, t)P(b, a, t) - \\sum_{b=\\theta}^\\infty \\sum_{a=\\theta}^\\infty \\sum_{i=1}^{N_{\\rm ta}} \\theta a\\tilde{\\mu}^A_{bi}(b, a, t) \\tilde{M}_{i} (B_{b}\\vert b, a, t)P(b, a, t) - \\theta \\nu^B {\\rm E}_t(a) \\\\\n",
    "&+ \\sum_{b=\\theta}^\\infty \\sum_{a=\\theta}^\\infty \\sum_{i=1}^{N_{\\rm ta}} \\theta b\\tilde{\\mu}^B_{ai}(b, a, t) \\tilde{M}_{i} (A_{a}\\vert b, a, t)P(b, a, t) + \\theta \\nu^A {\\rm E}_t(b) -\\sum_{b=\\theta}^\\infty \\sum_{a=\\theta}^\\infty \\sum_{p=a}^\\theta \\sum_{i=1}^{N_{\\rm pr}} \\theta b \\tilde{\\lambda}^A_{p}(b, a, t)P(b, a, t) \\,.\n",
    "\\end{align}\n",
    "$$\n",
    "\n",
    "**We can replace $P(b, a, t)$ for a Gaussian approximation and then emulate the price-dependent rates to solve this problem!**\n",
    "\n",
    "**Note that we can also calculate the mid price easily from $P(b,a,t)$ using:** $2m(t)=a(t)+b(t)$"
   ]
  },
  {
   "cell_type": "code",
   "execution_count": 1,
   "metadata": {},
   "outputs": [
    {
     "ename": "NameError",
     "evalue": "name 'np' is not defined",
     "output_type": "error",
     "traceback": [
      "\u001b[0;31m---------------------------------------------------------------------------\u001b[0m",
      "\u001b[0;31mNameError\u001b[0m                                 Traceback (most recent call last)",
      "\u001b[0;32m<ipython-input-1-f5b19d6c5a20>\u001b[0m in \u001b[0;36m<module>\u001b[0;34m\u001b[0m\n\u001b[1;32m      1\u001b[0m \u001b[0mnstockdim\u001b[0m \u001b[0;34m=\u001b[0m \u001b[0;36m1\u001b[0m\u001b[0;34m\u001b[0m\u001b[0;34m\u001b[0m\u001b[0m\n\u001b[1;32m      2\u001b[0m \u001b[0mnreals\u001b[0m \u001b[0;34m=\u001b[0m \u001b[0;36m1000\u001b[0m\u001b[0;34m\u001b[0m\u001b[0;34m\u001b[0m\u001b[0m\n\u001b[0;32m----> 3\u001b[0;31m S0 = np.tensordot(\n\u001b[0m\u001b[1;32m      4\u001b[0m     \u001b[0mnp\u001b[0m\u001b[0;34m.\u001b[0m\u001b[0mrandom\u001b[0m\u001b[0;34m.\u001b[0m\u001b[0mnormal\u001b[0m\u001b[0;34m(\u001b[0m\u001b[0;36m10.0\u001b[0m\u001b[0;34m,\u001b[0m \u001b[0;36m0.1\u001b[0m\u001b[0;34m,\u001b[0m \u001b[0msize\u001b[0m\u001b[0;34m=\u001b[0m\u001b[0mnstockdim\u001b[0m\u001b[0;34m)\u001b[0m\u001b[0;34m**\u001b[0m\u001b[0;36m2.0\u001b[0m\u001b[0;34m,\u001b[0m\u001b[0;34m\u001b[0m\u001b[0;34m\u001b[0m\u001b[0m\n\u001b[1;32m      5\u001b[0m     \u001b[0mnp\u001b[0m\u001b[0;34m.\u001b[0m\u001b[0mones\u001b[0m\u001b[0;34m(\u001b[0m\u001b[0mnreals\u001b[0m\u001b[0;34m)\u001b[0m\u001b[0;34m,\u001b[0m\u001b[0;34m\u001b[0m\u001b[0;34m\u001b[0m\u001b[0m\n",
      "\u001b[0;31mNameError\u001b[0m: name 'np' is not defined"
     ]
    }
   ],
   "source": [
    "nstockdim = 1\n",
    "nreals = 1000\n",
    "S0 = np.tensordot(\n",
    "    np.random.normal(10.0, 0.1, size=nstockdim)**2.0,\n",
    "    np.ones(nreals),\n",
    "    axes=0,\n",
    ")\n",
    "vol0 = np.tensordot(\n",
    "    np.random.normal(0.1, 0.1, size=nstockdim)**2.0,\n",
    "    np.ones(nreals),\n",
    "    axes=0,\n",
    ")\n",
    "x0 = np.append(S0, vol0, axis=0)\n",
    "deltat = 0.01\n",
    "T = 10.0"
   ]
  },
  {
   "cell_type": "markdown",
   "metadata": {},
   "source": [
    "The Heston model for stochastic volatility is\n",
    "\n",
    "$$\n",
    "\\begin{align}\n",
    "{\\rm d}S_t &= \\mu S_t {\\rm d}t + \\sqrt{\\nu_t}S_t{\\rm d}W^S_t \\\\\n",
    "{\\rm d}\\nu_t &= \\theta (\\omega -\\nu_t) {\\rm d}t + \\xi \\sqrt{\\nu_t}{\\rm d}W^\\nu_t \\\\\n",
    "{\\rm d}W^\\nu_t{\\rm d}W^S_t &= \\rho {\\rm d}t \\,.\n",
    "\\end{align}\n",
    "$$"
   ]
  },
  {
   "cell_type": "code",
   "execution_count": 7,
   "metadata": {},
   "outputs": [],
   "source": [
    "# Heston model terms\n",
    "mu = 0.01\n",
    "theta = 0.1\n",
    "omega = 0.5\n",
    "xi = 0.01\n",
    "rho = 0.1\n",
    "\n",
    "def drift(x, t):\n",
    "    drft = np.zeros_like(x)\n",
    "    S, vol = x[:nstockdim], x[nstockdim:]\n",
    "    drft[:nstockdim, :] = mu * S\n",
    "    drft[nstockdim:, :] = theta * (omega - vol)\n",
    "    return drft\n",
    "\n",
    "def diffusion(x, t):\n",
    "    diff = np.zeros_like(x)\n",
    "    S, vol = x[:nstockdim], x[nstockdim:]\n",
    "    diff[:nstockdim, :] = (vol ** 0.5) * S\n",
    "    diff[nstockdim:, :] = xi * (vol ** 0.5)\n",
    "    return diff"
   ]
  },
  {
   "cell_type": "code",
   "execution_count": 8,
   "metadata": {},
   "outputs": [],
   "source": [
    "mls = mlsolver(drift, diffusion)\n",
    "mls.noise_covmat[0, 1] = rho\n",
    "mls.noise_covmat[1, 0] = rho\n",
    "mls.realisations = nreals\n",
    "mls.ens._snapshot_rate = 5\n",
    "mls.setup(x0, deltat)\n",
    "mls.run(T)"
   ]
  },
  {
   "cell_type": "code",
   "execution_count": 9,
   "metadata": {},
   "outputs": [
    {
     "data": {
      "image/png": "[encoded data removed]",
      "text/plain": [
       "<Figure size 432x288 with 1 Axes>"
      ]
     },
     "metadata": {},
     "output_type": "display_data"
    }
   ],
   "source": [
    "plt.plot(\n",
    "    mls.ens.dataDict['CovMatrix']['t'],\n",
    "    np.asarray(mls.ens.dataDict['CovMatrix']['x'])[:,0,0]\n",
    ")\n",
    "plt.plot(\n",
    "    mls.ens.dataDict['CovMatrix']['t'],\n",
    "    np.asarray(mls.ens.dataDict['CovMatrix']['x'])[:,1,1]\n",
    ")\n",
    "axes = plt.gca()\n",
    "plt.show()"
   ]
  },
  {
   "cell_type": "code",
   "execution_count": null,
   "metadata": {},
   "outputs": [],
   "source": []
  },
  {
   "cell_type": "markdown",
   "metadata": {},
   "source": [
    "## Coupled queue emulation: Hawkes processes\n",
    "\n",
    "Following the model structure ideas of [Blanc, Donier & Bouchaud (2015)](https://doi.org/10.1080/14697688.2016.1193215) design and build a Hawkes process emulator of the market dynamics above and use it to infer the process. **So let's try to build a model which compresses** $({\\cal V},t)\\rightarrow (\\dots, B_p, \\dots, A_p, \\dots, t)$ and then infer all of the agent-averaged transition probabilities with Hawkes-style kernels to reconstruct the simulator.\n",
    "\n",
    "Referring back to the simulator graph\n",
    "\n",
    "<img src=\"lob-agent-sim.png\" width=\"500\"/>\n",
    "\n",
    "we are essentially trying to compress the simulation such that the blue-shaded components are no longer explicit."
   ]
  },
  {
   "cell_type": "code",
   "execution_count": null,
   "metadata": {},
   "outputs": [],
   "source": []
  }
 ],
 "metadata": {
  "kernelspec": {
   "display_name": "base",
   "language": "python",
   "name": "base"
  },
  "language_info": {
   "codemirror_mode": {
    "name": "ipython",
    "version": 3
   },
   "file_extension": ".py",
   "mimetype": "text/x-python",
   "name": "python",
   "nbconvert_exporter": "python",
   "pygments_lexer": "ipython3",
   "version": "3.8.5"
  }
 },
 "nbformat": 4,
 "nbformat_minor": 4
}
