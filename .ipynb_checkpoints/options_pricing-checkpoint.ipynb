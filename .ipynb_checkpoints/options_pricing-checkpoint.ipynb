{
 "cells": [
  {
   "cell_type": "markdown",
   "metadata": {},
   "source": [
    "- Look at the diffusive limits of the simulated market where it can be described by Fokker-Planck expansion, etc...\n",
    "- Write up and numerically solve some simple PDEs directly with Crank-Nicolson and some of the other methods here: https://en.wikipedia.org/wiki/Mathematical_finance "
   ]
  },
  {
   "cell_type": "markdown",
   "metadata": {},
   "source": [
    "- Maybe also look into stochastic simulation of short-rate models like Longstaff-Schwartz or Chen here: https://en.wikipedia.org/wiki/Short-rate_model#Multi-factor_short-rate_models (stochastic mean and stochastic volatility, respectively)."
   ]
  },
  {
   "cell_type": "code",
   "execution_count": null,
   "metadata": {},
   "outputs": [],
   "source": []
  }
 ],
 "metadata": {
  "kernelspec": {
   "display_name": "base",
   "language": "python",
   "name": "base"
  },
  "language_info": {
   "codemirror_mode": {
    "name": "ipython",
    "version": 3
   },
   "file_extension": ".py",
   "mimetype": "text/x-python",
   "name": "python",
   "nbconvert_exporter": "python",
   "pygments_lexer": "ipython3",
   "version": "3.8.5"
  }
 },
 "nbformat": 4,
 "nbformat_minor": 4
}
