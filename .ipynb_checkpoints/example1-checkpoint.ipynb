{
 "cells": [
  {
   "cell_type": "markdown",
   "metadata": {},
   "source": [
    "# example1\n",
    "\n",
    "The simulation of financial markets through the use of agent-based models is an increasingly popular technique to understand the microstructure of their dynamics from the bottom up. In this notebook, we'll look at an example market simulation."
   ]
  },
  {
   "cell_type": "code",
   "execution_count": 1,
   "metadata": {},
   "outputs": [],
   "source": [
    "# Usual imports\n",
    "import numpy as np\n",
    "import pandas as pd\n",
    "import matplotlib.pyplot as plt\n",
    "import seaborn as sns\n",
    "sns.set()"
   ]
  },
  {
   "cell_type": "markdown",
   "metadata": {},
   "source": [
    "Looking at this paper: https://www.nature.com/articles/srep08399.pdf ..."
   ]
  },
  {
   "cell_type": "code",
   "execution_count": 62,
   "metadata": {},
   "outputs": [],
   "source": [
    "class agentens:\n",
    "    def __init__(self, setup : dict):\n",
    "        \"\"\"A class for an ensemble of agents which\n",
    "        can be evolved in time.\"\"\"\n",
    "        self.setup = setup\n",
    "        self._invest_horizons = None\n",
    "        self.stocks_held = np.random.randint(\n",
    "            0,\n",
    "            self.setup[\"Nstocks\"] + 1,\n",
    "            size=(\n",
    "                self.setup[\"Nagents\"],\n",
    "                self.setup[\"Nreals\"],\n",
    "            ),\n",
    "        )\n",
    "        self.ln_returns = np.zeros(\n",
    "            (self.setup[\"Nagents\"], self.setup[\"Nreals\"])\n",
    "        )\n",
    "    @property\n",
    "    def invest_horizons(self):\n",
    "        if self._invest_horizons is None:\n",
    "            self.invest_horizon_times = np.random.exponential(\n",
    "                np.tensordot(\n",
    "                    1.0 \n",
    "                    / np.random.gamma(\n",
    "                        self.setup[\"GammaShape\"],\n",
    "                        self.setup[\"GammaScale\"],\n",
    "                        size=self.setup[\"Nagents\"],\n",
    "                    ),\n",
    "                    np.ones(self.setup[\"Nreals\"]),\n",
    "                    axes=0,\n",
    "                ),\n",
    "                size=(\n",
    "                    self.setup[\"Nagents\"],\n",
    "                    self.setup[\"Nreals\"],\n",
    "                )\n",
    "            )\n",
    "            self._invest_horizons = (\n",
    "                self.invest_horizon_times \n",
    "                / self.setup[\"tstep\"]\n",
    "            ).astype(int)\n",
    "            self.max_horizon = self._invest_horizons.max()\n",
    "            self.max_horizon_time = self.invest_horizon_times.max()\n",
    "            self.price_diff_history = np.zeros(\n",
    "                (self.max_horizon, self.setup[\"Nstocks\"], self.setup[\"Nreals\"])\n",
    "            )\n",
    "        return self._invest_horizons\n",
    "    def iterate(self, prices : np.ndarray):\n",
    "        \"\"\"Take the ensemble a step forward in time by\n",
    "        asking each agent to make a buy-sell-hold decision.\"\"\"\n",
    "        draws = np.random.uniform(size=(self.setup[\"Nagents\"], self.setup[\"Nreals\"]))\n",
    "        self.decisions = (\n",
    "            0\n",
    "            + 1 * (self.buyprobs > draws)\n",
    "            - 1 * (self.sellprobs + self.buyprobs > draws >= self.buyprobs)\n",
    "        )\n",
    "        self.ln_returns = np.cumsum(np.log(self.price_diff_history), axis=0)"
   ]
  },
  {
   "cell_type": "code",
   "execution_count": 63,
   "metadata": {},
   "outputs": [],
   "source": [
    "class marketens:\n",
    "    def __init__(self, setup : dict):\n",
    "        \"\"\"A class for an ensemble of simulated market \n",
    "        prices which can be evolved in time.\"\"\"\n",
    "        self.setup = setup\n",
    "        self._ae = None\n",
    "    @property\n",
    "    def ae(self):\n",
    "        if self._ae is None:\n",
    "            self._ae = agentens(self.setup)\n",
    "            self.prices = np.apply_along_axis(\n",
    "                lambda s: \n",
    "                np.histogram(s, bins=np.arange(0, self.setup[\"Nstocks\"] + 1, 1))[0],\n",
    "                0, \n",
    "                self._ae.stocks_held,\n",
    "            )\n",
    "        return self._ae\n",
    "    def iterate(self):\n",
    "        \"\"\"Take the market prices (and the ensemble) \n",
    "        a step forward in time.\"\"\"\n",
    "        self.ae.iterate(self.prices)\n",
    "        self.prices = self.ae.decisions"
   ]
  },
  {
   "cell_type": "code",
   "execution_count": 64,
   "metadata": {},
   "outputs": [],
   "source": [
    "k = 100.0\n",
    "setup = {\n",
    "    \"Nstocks\" : 100,\n",
    "    \"Nagents\" : 1000,\n",
    "    \"Nreals\" : 10,\n",
    "    \"GammaShape\" : k,\n",
    "    \"GammaScale\" : 1.0 / k,\n",
    "    \"tstep\" : 0.1,\n",
    "}\n",
    "me = marketens(setup)"
   ]
  },
  {
   "cell_type": "code",
   "execution_count": null,
   "metadata": {},
   "outputs": [],
   "source": []
  }
 ],
 "metadata": {
  "kernelspec": {
   "display_name": "base",
   "language": "python",
   "name": "base"
  },
  "language_info": {
   "codemirror_mode": {
    "name": "ipython",
    "version": 3
   },
   "file_extension": ".py",
   "mimetype": "text/x-python",
   "name": "python",
   "nbconvert_exporter": "python",
   "pygments_lexer": "ipython3",
   "version": "3.8.5"
  }
 },
 "nbformat": 4,
 "nbformat_minor": 4
}
