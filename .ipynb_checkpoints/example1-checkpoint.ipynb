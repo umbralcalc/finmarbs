{
 "cells": [
  {
   "cell_type": "markdown",
   "metadata": {},
   "source": [
    "# example1\n",
    "\n",
    "The simulation of financial markets through the use of agent-based models is an increasingly popular technique to understand the microstructure of their dynamics from the bottom up. In this notebook, we'll look at an example market simulation."
   ]
  },
  {
   "cell_type": "code",
   "execution_count": 1,
   "metadata": {},
   "outputs": [],
   "source": [
    "# Usual imports\n",
    "import numpy as np\n",
    "import pandas as pd\n",
    "import matplotlib.pyplot as plt\n",
    "import seaborn as sns\n",
    "sns.set()"
   ]
  },
  {
   "cell_type": "markdown",
   "metadata": {},
   "source": [
    "Looking at this paper: https://www.nature.com/articles/srep08399.pdf ..."
   ]
  },
  {
   "cell_type": "code",
   "execution_count": 13,
   "metadata": {},
   "outputs": [],
   "source": [
    "class agentens:\n",
    "    def __init__(self, setup : dict):\n",
    "        \"\"\"A class for an ensemble of agents which\n",
    "        can be evolved in time.\"\"\"\n",
    "        self.setup = setup\n",
    "        self.stocks_held = np.random.randint(\n",
    "            0,\n",
    "            self.setup[\"Nstocks\"] + 1,\n",
    "            size=(\n",
    "                self.setup[\"Nagents\"],\n",
    "                self.setup[\"Nreals\"],\n",
    "            ),\n",
    "        )\n",
    "        self.invest_horizons = np.random.exponential(\n",
    "            np.tensordot(\n",
    "                1.0 \n",
    "                / np.random.gamma(\n",
    "                    self.setup[\"GammaShape\"],\n",
    "                    self.setup[\"GammaScale\"],\n",
    "                    size=self.setup[\"Nagents\"],\n",
    "                ),\n",
    "                np.ones(self.setup[\"Nreals\"]),\n",
    "                axes=0,\n",
    "            ),\n",
    "            size=(\n",
    "                self.setup[\"Nagents\"],\n",
    "                self.setup[\"Nreals\"],\n",
    "            )\n",
    "        )\n",
    "        self.max_horizon = self.invest_horizons.max()\n",
    "        self.ln_returns = np.zeros(\n",
    "            (self.setup[\"Nagents\"], self.setup[\"Nreals\"])\n",
    "        )\n",
    "        \n",
    "    def iterate(self, prices : np.ndarray) -> np.ndarray:\n",
    "        \"\"\"Take the market prices (and the ensemble) \n",
    "        a step forward in time.\"\"\"\n",
    "        \n",
    "        self.ln_returns = 0.0\n",
    "        return new_prices"
   ]
  },
  {
   "cell_type": "code",
   "execution_count": null,
   "metadata": {},
   "outputs": [],
   "source": []
  },
  {
   "cell_type": "code",
   "execution_count": 14,
   "metadata": {},
   "outputs": [],
   "source": [
    "k = 100.0\n",
    "setup = {\n",
    "    \"Nstocks\" : 100,\n",
    "    \"Nagents\" : 1000,\n",
    "    \"Nreals\" : 10,\n",
    "    \"GammaShape\" : k,\n",
    "    \"GammaScale\" : 1.0 / k,\n",
    "    \"Maxhorizon\" : 0.0,\n",
    "}\n",
    "ae = agentens(setup)"
   ]
  },
  {
   "cell_type": "code",
   "execution_count": 15,
   "metadata": {},
   "outputs": [
    {
     "data": {
      "text/plain": [
       "9.947571070451199"
      ]
     },
     "execution_count": 15,
     "metadata": {},
     "output_type": "execute_result"
    }
   ],
   "source": [
    "ae.invest_horizons.max()"
   ]
  },
  {
   "cell_type": "code",
   "execution_count": null,
   "metadata": {},
   "outputs": [],
   "source": []
  }
 ],
 "metadata": {
  "kernelspec": {
   "display_name": "base",
   "language": "python",
   "name": "base"
  },
  "language_info": {
   "codemirror_mode": {
    "name": "ipython",
    "version": 3
   },
   "file_extension": ".py",
   "mimetype": "text/x-python",
   "name": "python",
   "nbconvert_exporter": "python",
   "pygments_lexer": "ipython3",
   "version": "3.8.5"
  }
 },
 "nbformat": 4,
 "nbformat_minor": 4
}
