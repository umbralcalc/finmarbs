{
 "cells": [
  {
   "cell_type": "markdown",
   "metadata": {},
   "source": [
    "# Background\n",
    "\n",
    "---\n",
    "\n",
    "The simulation of financial markets through the use of agent-based models is an increasingly popular technique to understand the microstructure of their dynamics from the bottom up. The aim of this repository is to infer an agent-based simulation of a financial market using Bayesian methods.\n"
   ]
  },
  {
   "cell_type": "markdown",
   "metadata": {},
   "source": [
    "### Literature review\n",
    "\n",
    "#### Statistical inference of agent-based models for financial markets\n",
    "\n",
    "- [Alfarano, Lux & Wagner (2005)](https://link.springer.com/article/10.1007/s10614-005-6415-1) is a paper which details the construction of a market microsimulation with asymmetric herding to explain the fat tails in the distribution of returns while also showing how it follows a Fokker-Planck equation up to second-order corrections.\n",
    "- [Chen et al. (2017)](https://link.springer.com/article/10.1007/s11467-017-0661-2) is a paper which looks at the 'information driving force' as a way to calibrate their specific form of agent-based model empirically.\n",
    "- [Grazzini, Richiardi & Tsionas (2017)](https://www.sciencedirect.com/science/article/abs/pii/S0165188917300222) is a paper which goes through some likelihood-free inference methods for agent-based simulations. The main techniques seem to be KDEs to reconstruct densities and ABC-SMC.\n",
    "- [Bertschinger & Mozzhorin (2020)](https://link.springer.com/article/10.1007/s11403-020-00289-z) is a paper which goes through some likelihood-based parameteric models to characterise agent-based simulations and perform parameter inference on them. This could be a good direction to take too!\n",
    "- [Marcaccioli, Bouchaud, Benzaquen (2021)](https://arxiv.org/abs/2106.07040) is a paper which shows how endogenous (self-exciting) and exogeneous (driven by external factors like sudden news breaks) price jumps belong to different dynamical classes as their relaxation profiles can be inferred to be different.\n",
    "\n",
    "#### Agent-based simulation models of financial markets\n",
    "\n",
    "- [Raberto et al. (2001)](https://www.sciencedirect.com/science/article/abs/pii/S0378437101003120?via%3Dihub) basic model of a financial market with constant total cash being conserved.\n",
    "- [Boer-Sorban (2008)](https://core.ac.uk/download/pdf/18519851.pdf) is a PhD thesis on building agent-based models of markets.\n",
    "- [Chen, Tan & Zheng (2015)](https://www.nature.com/articles/srep08399) is a paper which looks at multi-level herding in agent-based market simulation. This is able to maintain both sector-level structure of markets and clustering between them at the same time as their respective temporal correlation structures. This looks like a mutual self-exciting process.\n",
    "- [Bouchaud et al. (2018)](https://doi.org/10.1017/9781316659335) is the textbook on market microstructure which should have useful details for any model constructed here\n",
    "- [Wang et al. (2018)](https://iopscience.iop.org/article/10.1088/1742-6596/1039/1/012022) is a review on agent-based models.\n",
    "- [Sharma et al. (2020)](https://www.cfm.fr/assets/Uploads/V-U-L-or-W-shaped-recovery-after-COVID.pdf) is a paper on recovery curves post-economic shock due to COVID-19"
   ]
  },
  {
   "cell_type": "code",
   "execution_count": null,
   "metadata": {},
   "outputs": [],
   "source": []
  }
 ],
 "metadata": {
  "kernelspec": {
   "display_name": "base",
   "language": "python",
   "name": "base"
  },
  "language_info": {
   "codemirror_mode": {
    "name": "ipython",
    "version": 3
   },
   "file_extension": ".py",
   "mimetype": "text/x-python",
   "name": "python",
   "nbconvert_exporter": "python",
   "pygments_lexer": "ipython3",
   "version": "3.8.5"
  }
 },
 "nbformat": 4,
 "nbformat_minor": 4
}
